{
  "cells": [
    {
      "cell_type": "markdown",
      "source": [
        "# **Índice**\n",
        "\n",
        "### **0 - Carregamento das bibliotecas e da base de dados**\n",
        "\n",
        "### **1 - Análise das variáveis**\n",
        "1.1 - Análise geral\n",
        "\n",
        "1.2 - Análise das variáveis categóricas não binárias\n",
        "\n",
        "### **2 - Pré-processamento**\n",
        "2.1 - Variáveis binárias e categóricas\n",
        "\n",
        "2.2 - Variáveis W2V\n",
        "\n",
        "2.3 - Pré-processamento da base de teste\n",
        "\n",
        "### **3 - Modelos**\n",
        "3.1 - Modelo 1 - Random Forest\n",
        "\n",
        "3.2 - Modelo 2 - MLP\n",
        "\n",
        "3.3 - Modelo 3 - XGBoost\n",
        "\n",
        "3.4 - Ensembles\n",
        "\n",
        "### **4 - Avaliação e escolha do modelo**\n",
        "4.1 - Acurácia\n",
        "\n",
        "4.2 - Matriz de confusão\n",
        "\n",
        "4.3 - Curva ROC\n",
        "\n",
        "4.4 - Validação cruzada dos melhores modelos\n",
        "\n",
        "4.5 - Escolha e salvamento do modelo"
      ],
      "metadata": {
        "id": "9Wy2zsjWtufd"
      }
    },
    {
      "cell_type": "markdown",
      "source": [
        "# 0 - Carregamento das bibliotecas e da base de dados"
      ],
      "metadata": {
        "id": "KchHK2JsZRWU"
      }
    },
    {
      "cell_type": "code",
      "execution_count": 1,
      "metadata": {
        "id": "c7jiAA0s9Hm2"
      },
      "outputs": [],
      "source": [
        "# Importando bibliotecas\n",
        "import pandas as pd\n",
        "import numpy as np\n",
        "import matplotlib.pyplot as plt\n",
        "from sklearn.model_selection import train_test_split\n",
        "from sklearn.ensemble import RandomForestClassifier\n",
        "from sklearn.metrics import accuracy_score\n",
        "from sklearn.metrics import confusion_matrix\n",
        "import matplotlib.pyplot as plt\n",
        "from sklearn.model_selection import train_test_split\n",
        "import statistics\n",
        "import spacy\n",
        "import re\n",
        "import unicodedata\n",
        "from gensim.models.keyedvectors import KeyedVectors\n",
        "from time import time\n",
        "from sklearn.metrics import classification_report\n",
        "from sklearn.model_selection import GridSearchCV\n",
        "from sklearn.metrics import roc_curve\n",
        "from sklearn.metrics import roc_auc_score\n",
        "from sklearn.model_selection import KFold\n",
        "from sklearn.neural_network import MLPClassifier\n",
        "from xgboost.sklearn import XGBClassifier\n",
        "from sklearn.model_selection import RandomizedSearchCV\n",
        "from sklearn.ensemble import StackingClassifier\n",
        "from sklearn.ensemble import VotingClassifier\n",
        "from sklearn.linear_model import LogisticRegression\n",
        "import pickle"
      ]
    },
    {
      "cell_type": "code",
      "execution_count": 2,
      "metadata": {
        "id": "jINjjjtk9GLL"
      },
      "outputs": [],
      "source": [
        "import warnings\n",
        "warnings.filterwarnings(\"ignore\")"
      ]
    },
    {
      "cell_type": "code",
      "execution_count": 3,
      "metadata": {
        "colab": {
          "base_uri": "https://localhost:8080/",
          "height": 600
        },
        "id": "mddXN-IR9ZAi",
        "outputId": "bd9a538b-ddd6-4872-da1a-58fb18b79209"
      },
      "outputs": [
        {
          "output_type": "execute_result",
          "data": {
            "text/plain": [
              "                                       title            location department  \\\n",
              "0                           Marketing Intern    US, NY, New York  Marketing   \n",
              "1  Customer Service - Cloud Video Production      NZ, , Auckland    Success   \n",
              "2    Commissioning Machinery Assistant (CMA)       US, IA, Wever        NaN   \n",
              "3          Account Executive - Washington DC  US, DC, Washington      Sales   \n",
              "4                        Bill Review Manager  US, FL, Fort Worth        NaN   \n",
              "\n",
              "  salary_range                                    company_profile  \\\n",
              "0          NaN  <h3>We're Food52, and we've created a groundbr...   \n",
              "1          NaN  <h3>90 Seconds, the worlds Cloud Video Product...   \n",
              "2          NaN  <h3></h3>\\r\\n<p>Valor Services provides Workfo...   \n",
              "3          NaN  <p>Our passion for improving quality of life t...   \n",
              "4          NaN  <p>SpotSource Solutions LLC is a Global Human ...   \n",
              "\n",
              "                                         description  \\\n",
              "0  <p>Food52, a fast-growing, James Beard Award-w...   \n",
              "1  <p>Organised - Focused - Vibrant - Awesome!<br...   \n",
              "2  <p>Our client, located in Houston, is actively...   \n",
              "3  <p><b>THE COMPANY: ESRI – Environmental System...   \n",
              "4  <p><b>JOB TITLE:</b> Itemization Review Manage...   \n",
              "\n",
              "                                        requirements  \\\n",
              "0  <ul>\\r\\n<li>Experience with content management...   \n",
              "1  <p><b>What we expect from you:</b></p>\\r\\n<p>Y...   \n",
              "2  <ul>\\r\\n<li>Implement pre-commissioning and co...   \n",
              "3  <ul>\\r\\n<li>\\r\\n<b>EDUCATION: </b>Bachelor’s o...   \n",
              "4  <p><b>QUALIFICATIONS:</b></p>\\r\\n<ul>\\r\\n<li>R...   \n",
              "\n",
              "                                            benefits telecommuting  \\\n",
              "0                                                NaN             f   \n",
              "1  <h3><b>What you will get from us</b></h3>\\r\\n<...             f   \n",
              "2                                                NaN             f   \n",
              "3  <p>Our culture is anything but corporate—we ha...             f   \n",
              "4                       <p>Full Benefits Offered</p>             f   \n",
              "\n",
              "  has_company_logo has_questions employment_type required_experience  \\\n",
              "0                t             f           Other          Internship   \n",
              "1                t             f       Full-time      Not Applicable   \n",
              "2                t             f             NaN                 NaN   \n",
              "3                t             f       Full-time    Mid-Senior level   \n",
              "4                t             t       Full-time    Mid-Senior level   \n",
              "\n",
              "  required_education                   industry              function  \\\n",
              "0                NaN                        NaN             Marketing   \n",
              "1                NaN  Marketing and Advertising      Customer Service   \n",
              "2                NaN                        NaN                   NaN   \n",
              "3  Bachelor's Degree          Computer Software                 Sales   \n",
              "4  Bachelor's Degree     Hospital & Health Care  Health Care Provider   \n",
              "\n",
              "  fraudulent in_balanced_dataset  \n",
              "0          f                   f  \n",
              "1          f                   f  \n",
              "2          f                   f  \n",
              "3          f                   f  \n",
              "4          f                   f  "
            ],
            "text/html": [
              "\n",
              "  <div id=\"df-51e59d55-c155-42fb-916c-e038107d4e02\">\n",
              "    <div class=\"colab-df-container\">\n",
              "      <div>\n",
              "<style scoped>\n",
              "    .dataframe tbody tr th:only-of-type {\n",
              "        vertical-align: middle;\n",
              "    }\n",
              "\n",
              "    .dataframe tbody tr th {\n",
              "        vertical-align: top;\n",
              "    }\n",
              "\n",
              "    .dataframe thead th {\n",
              "        text-align: right;\n",
              "    }\n",
              "</style>\n",
              "<table border=\"1\" class=\"dataframe\">\n",
              "  <thead>\n",
              "    <tr style=\"text-align: right;\">\n",
              "      <th></th>\n",
              "      <th>title</th>\n",
              "      <th>location</th>\n",
              "      <th>department</th>\n",
              "      <th>salary_range</th>\n",
              "      <th>company_profile</th>\n",
              "      <th>description</th>\n",
              "      <th>requirements</th>\n",
              "      <th>benefits</th>\n",
              "      <th>telecommuting</th>\n",
              "      <th>has_company_logo</th>\n",
              "      <th>has_questions</th>\n",
              "      <th>employment_type</th>\n",
              "      <th>required_experience</th>\n",
              "      <th>required_education</th>\n",
              "      <th>industry</th>\n",
              "      <th>function</th>\n",
              "      <th>fraudulent</th>\n",
              "      <th>in_balanced_dataset</th>\n",
              "    </tr>\n",
              "  </thead>\n",
              "  <tbody>\n",
              "    <tr>\n",
              "      <th>0</th>\n",
              "      <td>Marketing Intern</td>\n",
              "      <td>US, NY, New York</td>\n",
              "      <td>Marketing</td>\n",
              "      <td>NaN</td>\n",
              "      <td>&lt;h3&gt;We're Food52, and we've created a groundbr...</td>\n",
              "      <td>&lt;p&gt;Food52, a fast-growing, James Beard Award-w...</td>\n",
              "      <td>&lt;ul&gt;\\r\\n&lt;li&gt;Experience with content management...</td>\n",
              "      <td>NaN</td>\n",
              "      <td>f</td>\n",
              "      <td>t</td>\n",
              "      <td>f</td>\n",
              "      <td>Other</td>\n",
              "      <td>Internship</td>\n",
              "      <td>NaN</td>\n",
              "      <td>NaN</td>\n",
              "      <td>Marketing</td>\n",
              "      <td>f</td>\n",
              "      <td>f</td>\n",
              "    </tr>\n",
              "    <tr>\n",
              "      <th>1</th>\n",
              "      <td>Customer Service - Cloud Video Production</td>\n",
              "      <td>NZ, , Auckland</td>\n",
              "      <td>Success</td>\n",
              "      <td>NaN</td>\n",
              "      <td>&lt;h3&gt;90 Seconds, the worlds Cloud Video Product...</td>\n",
              "      <td>&lt;p&gt;Organised - Focused - Vibrant - Awesome!&lt;br...</td>\n",
              "      <td>&lt;p&gt;&lt;b&gt;What we expect from you:&lt;/b&gt;&lt;/p&gt;\\r\\n&lt;p&gt;Y...</td>\n",
              "      <td>&lt;h3&gt;&lt;b&gt;What you will get from us&lt;/b&gt;&lt;/h3&gt;\\r\\n&lt;...</td>\n",
              "      <td>f</td>\n",
              "      <td>t</td>\n",
              "      <td>f</td>\n",
              "      <td>Full-time</td>\n",
              "      <td>Not Applicable</td>\n",
              "      <td>NaN</td>\n",
              "      <td>Marketing and Advertising</td>\n",
              "      <td>Customer Service</td>\n",
              "      <td>f</td>\n",
              "      <td>f</td>\n",
              "    </tr>\n",
              "    <tr>\n",
              "      <th>2</th>\n",
              "      <td>Commissioning Machinery Assistant (CMA)</td>\n",
              "      <td>US, IA, Wever</td>\n",
              "      <td>NaN</td>\n",
              "      <td>NaN</td>\n",
              "      <td>&lt;h3&gt;&lt;/h3&gt;\\r\\n&lt;p&gt;Valor Services provides Workfo...</td>\n",
              "      <td>&lt;p&gt;Our client, located in Houston, is actively...</td>\n",
              "      <td>&lt;ul&gt;\\r\\n&lt;li&gt;Implement pre-commissioning and co...</td>\n",
              "      <td>NaN</td>\n",
              "      <td>f</td>\n",
              "      <td>t</td>\n",
              "      <td>f</td>\n",
              "      <td>NaN</td>\n",
              "      <td>NaN</td>\n",
              "      <td>NaN</td>\n",
              "      <td>NaN</td>\n",
              "      <td>NaN</td>\n",
              "      <td>f</td>\n",
              "      <td>f</td>\n",
              "    </tr>\n",
              "    <tr>\n",
              "      <th>3</th>\n",
              "      <td>Account Executive - Washington DC</td>\n",
              "      <td>US, DC, Washington</td>\n",
              "      <td>Sales</td>\n",
              "      <td>NaN</td>\n",
              "      <td>&lt;p&gt;Our passion for improving quality of life t...</td>\n",
              "      <td>&lt;p&gt;&lt;b&gt;THE COMPANY: ESRI – Environmental System...</td>\n",
              "      <td>&lt;ul&gt;\\r\\n&lt;li&gt;\\r\\n&lt;b&gt;EDUCATION: &lt;/b&gt;Bachelor’s o...</td>\n",
              "      <td>&lt;p&gt;Our culture is anything but corporate—we ha...</td>\n",
              "      <td>f</td>\n",
              "      <td>t</td>\n",
              "      <td>f</td>\n",
              "      <td>Full-time</td>\n",
              "      <td>Mid-Senior level</td>\n",
              "      <td>Bachelor's Degree</td>\n",
              "      <td>Computer Software</td>\n",
              "      <td>Sales</td>\n",
              "      <td>f</td>\n",
              "      <td>f</td>\n",
              "    </tr>\n",
              "    <tr>\n",
              "      <th>4</th>\n",
              "      <td>Bill Review Manager</td>\n",
              "      <td>US, FL, Fort Worth</td>\n",
              "      <td>NaN</td>\n",
              "      <td>NaN</td>\n",
              "      <td>&lt;p&gt;SpotSource Solutions LLC is a Global Human ...</td>\n",
              "      <td>&lt;p&gt;&lt;b&gt;JOB TITLE:&lt;/b&gt; Itemization Review Manage...</td>\n",
              "      <td>&lt;p&gt;&lt;b&gt;QUALIFICATIONS:&lt;/b&gt;&lt;/p&gt;\\r\\n&lt;ul&gt;\\r\\n&lt;li&gt;R...</td>\n",
              "      <td>&lt;p&gt;Full Benefits Offered&lt;/p&gt;</td>\n",
              "      <td>f</td>\n",
              "      <td>t</td>\n",
              "      <td>t</td>\n",
              "      <td>Full-time</td>\n",
              "      <td>Mid-Senior level</td>\n",
              "      <td>Bachelor's Degree</td>\n",
              "      <td>Hospital &amp; Health Care</td>\n",
              "      <td>Health Care Provider</td>\n",
              "      <td>f</td>\n",
              "      <td>f</td>\n",
              "    </tr>\n",
              "  </tbody>\n",
              "</table>\n",
              "</div>\n",
              "      <button class=\"colab-df-convert\" onclick=\"convertToInteractive('df-51e59d55-c155-42fb-916c-e038107d4e02')\"\n",
              "              title=\"Convert this dataframe to an interactive table.\"\n",
              "              style=\"display:none;\">\n",
              "        \n",
              "  <svg xmlns=\"http://www.w3.org/2000/svg\" height=\"24px\"viewBox=\"0 0 24 24\"\n",
              "       width=\"24px\">\n",
              "    <path d=\"M0 0h24v24H0V0z\" fill=\"none\"/>\n",
              "    <path d=\"M18.56 5.44l.94 2.06.94-2.06 2.06-.94-2.06-.94-.94-2.06-.94 2.06-2.06.94zm-11 1L8.5 8.5l.94-2.06 2.06-.94-2.06-.94L8.5 2.5l-.94 2.06-2.06.94zm10 10l.94 2.06.94-2.06 2.06-.94-2.06-.94-.94-2.06-.94 2.06-2.06.94z\"/><path d=\"M17.41 7.96l-1.37-1.37c-.4-.4-.92-.59-1.43-.59-.52 0-1.04.2-1.43.59L10.3 9.45l-7.72 7.72c-.78.78-.78 2.05 0 2.83L4 21.41c.39.39.9.59 1.41.59.51 0 1.02-.2 1.41-.59l7.78-7.78 2.81-2.81c.8-.78.8-2.07 0-2.86zM5.41 20L4 18.59l7.72-7.72 1.47 1.35L5.41 20z\"/>\n",
              "  </svg>\n",
              "      </button>\n",
              "      \n",
              "  <style>\n",
              "    .colab-df-container {\n",
              "      display:flex;\n",
              "      flex-wrap:wrap;\n",
              "      gap: 12px;\n",
              "    }\n",
              "\n",
              "    .colab-df-convert {\n",
              "      background-color: #E8F0FE;\n",
              "      border: none;\n",
              "      border-radius: 50%;\n",
              "      cursor: pointer;\n",
              "      display: none;\n",
              "      fill: #1967D2;\n",
              "      height: 32px;\n",
              "      padding: 0 0 0 0;\n",
              "      width: 32px;\n",
              "    }\n",
              "\n",
              "    .colab-df-convert:hover {\n",
              "      background-color: #E2EBFA;\n",
              "      box-shadow: 0px 1px 2px rgba(60, 64, 67, 0.3), 0px 1px 3px 1px rgba(60, 64, 67, 0.15);\n",
              "      fill: #174EA6;\n",
              "    }\n",
              "\n",
              "    [theme=dark] .colab-df-convert {\n",
              "      background-color: #3B4455;\n",
              "      fill: #D2E3FC;\n",
              "    }\n",
              "\n",
              "    [theme=dark] .colab-df-convert:hover {\n",
              "      background-color: #434B5C;\n",
              "      box-shadow: 0px 1px 3px 1px rgba(0, 0, 0, 0.15);\n",
              "      filter: drop-shadow(0px 1px 2px rgba(0, 0, 0, 0.3));\n",
              "      fill: #FFFFFF;\n",
              "    }\n",
              "  </style>\n",
              "\n",
              "      <script>\n",
              "        const buttonEl =\n",
              "          document.querySelector('#df-51e59d55-c155-42fb-916c-e038107d4e02 button.colab-df-convert');\n",
              "        buttonEl.style.display =\n",
              "          google.colab.kernel.accessAllowed ? 'block' : 'none';\n",
              "\n",
              "        async function convertToInteractive(key) {\n",
              "          const element = document.querySelector('#df-51e59d55-c155-42fb-916c-e038107d4e02');\n",
              "          const dataTable =\n",
              "            await google.colab.kernel.invokeFunction('convertToInteractive',\n",
              "                                                     [key], {});\n",
              "          if (!dataTable) return;\n",
              "\n",
              "          const docLinkHtml = 'Like what you see? Visit the ' +\n",
              "            '<a target=\"_blank\" href=https://colab.research.google.com/notebooks/data_table.ipynb>data table notebook</a>'\n",
              "            + ' to learn more about interactive tables.';\n",
              "          element.innerHTML = '';\n",
              "          dataTable['output_type'] = 'display_data';\n",
              "          await google.colab.output.renderOutput(dataTable, element);\n",
              "          const docLink = document.createElement('div');\n",
              "          docLink.innerHTML = docLinkHtml;\n",
              "          element.appendChild(docLink);\n",
              "        }\n",
              "      </script>\n",
              "    </div>\n",
              "  </div>\n",
              "  "
            ]
          },
          "metadata": {},
          "execution_count": 3
        }
      ],
      "source": [
        "# Importand base de dados\n",
        "data = pd.read_csv('data/DataSet.csv')\n",
        "data.head()"
      ]
    },
    {
      "cell_type": "code",
      "execution_count": 4,
      "metadata": {
        "id": "_kROFwej9Z7q"
      },
      "outputs": [],
      "source": [
        "# Transformando a coluna target em coluna numerica para facilitar a analise\n",
        "data['fraudulent'] = data['fraudulent'].replace({'f':0,'t':1})\n",
        "\n",
        "# Excluindo a coluna 'in_balanced_dataset' porque a target sera a fraudulent\n",
        "data.drop('in_balanced_dataset',axis=1,inplace=True)"
      ]
    },
    {
      "cell_type": "markdown",
      "metadata": {
        "id": "R-S1DoLP-jJf"
      },
      "source": [
        "# 1 - Análise das variáveis"
      ]
    },
    {
      "cell_type": "markdown",
      "metadata": {
        "id": "UKne2RmmnZC5"
      },
      "source": [
        "## 1.1 - Análise geral"
      ]
    },
    {
      "cell_type": "code",
      "execution_count": 5,
      "metadata": {
        "colab": {
          "base_uri": "https://localhost:8080/"
        },
        "id": "aAfxpA1__qwA",
        "outputId": "995b5240-35a6-4552-af05-a5ab6d82b3a5"
      },
      "outputs": [
        {
          "output_type": "execute_result",
          "data": {
            "text/plain": [
              "(17880, 17)"
            ]
          },
          "metadata": {},
          "execution_count": 5
        }
      ],
      "source": [
        "data.shape"
      ]
    },
    {
      "cell_type": "code",
      "execution_count": 6,
      "metadata": {
        "colab": {
          "base_uri": "https://localhost:8080/"
        },
        "id": "o3CpsoY0_mrQ",
        "outputId": "ec3de480-70cc-40aa-d0af-de923fc86f54"
      },
      "outputs": [
        {
          "output_type": "stream",
          "name": "stdout",
          "text": [
            "4.84 %\n"
          ]
        }
      ],
      "source": [
        "# Porcentagem de fraude:\n",
        "print(round(data.fraudulent.mean() * 100,2),\"%\")"
      ]
    },
    {
      "cell_type": "code",
      "execution_count": 7,
      "metadata": {
        "colab": {
          "base_uri": "https://localhost:8080/"
        },
        "id": "U438_ZJA_Q5E",
        "outputId": "ddb1808b-b102-43b0-c0af-7f8dbda2c53f"
      },
      "outputs": [
        {
          "output_type": "execute_result",
          "data": {
            "text/plain": [
              "title                  object\n",
              "location               object\n",
              "department             object\n",
              "salary_range           object\n",
              "company_profile        object\n",
              "description            object\n",
              "requirements           object\n",
              "benefits               object\n",
              "telecommuting          object\n",
              "has_company_logo       object\n",
              "has_questions          object\n",
              "employment_type        object\n",
              "required_experience    object\n",
              "required_education     object\n",
              "industry               object\n",
              "function               object\n",
              "fraudulent              int64\n",
              "dtype: object"
            ]
          },
          "metadata": {},
          "execution_count": 7
        }
      ],
      "source": [
        "# A unica coluna numerica é a target\n",
        "data.dtypes"
      ]
    },
    {
      "cell_type": "code",
      "execution_count": 8,
      "metadata": {
        "colab": {
          "base_uri": "https://localhost:8080/"
        },
        "id": "51l-uyj0-iiU",
        "outputId": "af556402-18ae-4d13-81f1-8e6c44d35ea1"
      },
      "outputs": [
        {
          "output_type": "execute_result",
          "data": {
            "text/plain": [
              "title                      0\n",
              "location                 346\n",
              "department             11547\n",
              "salary_range           15012\n",
              "company_profile         3308\n",
              "description                0\n",
              "requirements            2689\n",
              "benefits                7196\n",
              "telecommuting              0\n",
              "has_company_logo           0\n",
              "has_questions              0\n",
              "employment_type         3471\n",
              "required_experience     7050\n",
              "required_education      8105\n",
              "industry                4903\n",
              "function                6455\n",
              "fraudulent                 0\n",
              "dtype: int64"
            ]
          },
          "metadata": {},
          "execution_count": 8
        }
      ],
      "source": [
        "data.isnull().sum()"
      ]
    },
    {
      "cell_type": "markdown",
      "metadata": {
        "id": "ISHFVY9e-xxZ"
      },
      "source": [
        "Os dados faltantes representam campos nao preenchidos pelo recrutador na hora de publicar a vaga, logo representam um comportamento e devem ser representados na base e nao excluidos"
      ]
    },
    {
      "cell_type": "code",
      "execution_count": 9,
      "metadata": {
        "colab": {
          "base_uri": "https://localhost:8080/"
        },
        "id": "Pa7aSnxc-e4o",
        "outputId": "b25ae570-cf07-400e-fc5a-a18c923a46d8"
      },
      "outputs": [
        {
          "output_type": "stream",
          "name": "stdout",
          "text": [
            "Coluna: location\n",
            "Porcentagem de linhas nulas: 1.94%\n",
            "Porcentagem de fraudes nos nulos: 5.49%\n",
            "Porcentagem de fraudes nos não nulos: 4.83%\n",
            "\n",
            "Coluna: department\n",
            "Porcentagem de linhas nulas: 64.58%\n",
            "Porcentagem de fraudes nos nulos: 4.60%\n",
            "Porcentagem de fraudes nos não nulos: 5.29%\n",
            "\n",
            "Coluna: salary_range\n",
            "Porcentagem de linhas nulas: 83.96%\n",
            "Porcentagem de fraudes nos nulos: 4.28%\n",
            "Porcentagem de fraudes nos não nulos: 7.78%\n",
            "\n",
            "Coluna: company_profile\n",
            "Porcentagem de linhas nulas: 18.50%\n",
            "Porcentagem de fraudes nos nulos: 17.74%\n",
            "Porcentagem de fraudes nos não nulos: 1.91%\n",
            "\n",
            "Coluna: requirements\n",
            "Porcentagem de linhas nulas: 15.04%\n",
            "Porcentagem de fraudes nos nulos: 5.69%\n",
            "Porcentagem de fraudes nos não nulos: 4.69%\n",
            "\n",
            "Coluna: benefits\n",
            "Porcentagem de linhas nulas: 40.25%\n",
            "Porcentagem de fraudes nos nulos: 5.04%\n",
            "Porcentagem de fraudes nos não nulos: 4.71%\n",
            "\n",
            "Coluna: employment_type\n",
            "Porcentagem de linhas nulas: 19.41%\n",
            "Porcentagem de fraudes nos nulos: 6.94%\n",
            "Porcentagem de fraudes nos não nulos: 4.34%\n",
            "\n",
            "Coluna: required_experience\n",
            "Porcentagem de linhas nulas: 39.43%\n",
            "Porcentagem de fraudes nos nulos: 6.17%\n",
            "Porcentagem de fraudes nos não nulos: 3.98%\n",
            "\n",
            "Coluna: required_education\n",
            "Porcentagem de linhas nulas: 45.33%\n",
            "Porcentagem de fraudes nos nulos: 5.56%\n",
            "Porcentagem de fraudes nos não nulos: 4.25%\n",
            "\n",
            "Coluna: industry\n",
            "Porcentagem de linhas nulas: 27.42%\n",
            "Porcentagem de fraudes nos nulos: 5.61%\n",
            "Porcentagem de fraudes nos não nulos: 4.55%\n",
            "\n",
            "Coluna: function\n",
            "Porcentagem de linhas nulas: 36.10%\n",
            "Porcentagem de fraudes nos nulos: 5.22%\n",
            "Porcentagem de fraudes nos não nulos: 4.63%\n",
            "\n"
          ]
        }
      ],
      "source": [
        "# Comparação de porcentagem de fraudes no dados preenchidos e nao preenchidos por coluna\n",
        "for coluna in data.isnull().sum()[data.isnull().sum() > 0].index:\n",
        "  porc_null = (data[coluna].isnull().sum() / len(data)) * 100\n",
        "  porcf_null = data[data[coluna].isnull()]['fraudulent'].mean() * 100\n",
        "  porcf_n_null = data[data[coluna].notnull()]['fraudulent'].mean() * 100\n",
        "  print(\"Coluna: {}\\nPorcentagem de linhas nulas: {:.2f}%\\nPorcentagem de fraudes nos nulos: {:.2f}%\\nPorcentagem de fraudes nos não nulos: {:.2f}%\\n\".format(coluna,porc_null,porcf_null,porcf_n_null))"
      ]
    },
    {
      "cell_type": "markdown",
      "metadata": {
        "id": "ENTPvcHqCW0m"
      },
      "source": [
        "É possivel ver claramente que o preenchimento ou não de um campo pode representar um indicador importante para que o modelo possa prever se é fraude ou não"
      ]
    },
    {
      "cell_type": "markdown",
      "metadata": {
        "id": "KEV8l8zAUQob"
      },
      "source": [
        "Variaveis textuais (necessitam passar por um modelo nlp):\n",
        "- title\n",
        "- company_profile\n",
        "- description\n",
        "- requirements\n",
        "- benefits"
      ]
    },
    {
      "cell_type": "code",
      "execution_count": 10,
      "metadata": {
        "id": "Or9lKSh7UNiB"
      },
      "outputs": [],
      "source": [
        "colunas_nlp = ['title','company_profile','description','requirements','benefits']"
      ]
    },
    {
      "cell_type": "markdown",
      "metadata": {
        "id": "jfD2g-P6lpcy"
      },
      "source": [
        "Variaveis binarias:\n",
        "- telecommuting\n",
        "- has_company_logo\n",
        "- has_questions"
      ]
    },
    {
      "cell_type": "code",
      "execution_count": 11,
      "metadata": {
        "id": "liTuS3XglpAj"
      },
      "outputs": [],
      "source": [
        "colunas_bi = ['telecommuting','has_company_logo','has_questions']"
      ]
    },
    {
      "cell_type": "markdown",
      "metadata": {
        "id": "8bsclenamm3m"
      },
      "source": [
        "Verificando quantas categorias unicas cada variavel categorica nao binaria possui:"
      ]
    },
    {
      "cell_type": "code",
      "execution_count": 12,
      "metadata": {
        "colab": {
          "base_uri": "https://localhost:8080/"
        },
        "id": "NEq0J9cLkqJ7",
        "outputId": "15010bf4-7cd7-46bf-ee8a-57eda02305c5"
      },
      "outputs": [
        {
          "output_type": "stream",
          "name": "stdout",
          "text": [
            "Coluna: location\n",
            "Quantidade de categorias unicas: 3106\n",
            "\n",
            "Coluna: department\n",
            "Quantidade de categorias unicas: 1338\n",
            "\n",
            "Coluna: salary_range\n",
            "Quantidade de categorias unicas: 875\n",
            "\n",
            "Coluna: employment_type\n",
            "Quantidade de categorias unicas: 6\n",
            "\n",
            "Coluna: required_experience\n",
            "Quantidade de categorias unicas: 8\n",
            "\n",
            "Coluna: required_education\n",
            "Quantidade de categorias unicas: 14\n",
            "\n",
            "Coluna: industry\n",
            "Quantidade de categorias unicas: 132\n",
            "\n",
            "Coluna: function\n",
            "Quantidade de categorias unicas: 38\n",
            "\n"
          ]
        }
      ],
      "source": [
        "colunas_cat = [coluna for coluna in data.columns if (coluna not in colunas_nlp) and (coluna not in colunas_bi) and not(coluna == 'fraudulent')]\n",
        "for coluna in colunas_cat:\n",
        "  print(\"Coluna: {}\\nQuantidade de categorias unicas: {}\\n\".format(coluna,len(data[coluna].unique())))"
      ]
    },
    {
      "cell_type": "markdown",
      "metadata": {
        "id": "NgpQC0IpDhNL"
      },
      "source": [
        "## 1.2 - Análise das variáveis categóricas não binárias"
      ]
    },
    {
      "cell_type": "markdown",
      "metadata": {
        "id": "U6E65s5zXvnr"
      },
      "source": [
        "### location"
      ]
    },
    {
      "cell_type": "markdown",
      "metadata": {
        "id": "Mr0A-_cBZZvo"
      },
      "source": [
        "A alta quantidade de cidades e estados em relação a quantidade total de dados torna manter cidade e estado como variaveis praticamente inviavel, usar apenas o pais aparenta ser o mais viavel."
      ]
    },
    {
      "cell_type": "code",
      "execution_count": 13,
      "metadata": {
        "colab": {
          "base_uri": "https://localhost:8080/"
        },
        "id": "yrLVaXYXXxGA",
        "outputId": "ddb03788-0c5e-4b4d-ae74-bfb64d8ec7b2"
      },
      "outputs": [
        {
          "output_type": "execute_result",
          "data": {
            "text/plain": [
              "GB, LND, London          718\n",
              "US, NY, New York         658\n",
              "US, CA, San Francisco    472\n",
              "GR, I, Athens            464\n",
              "US, ,                    339\n",
              "                        ... \n",
              "GB, SFK, Leiston           1\n",
              "GB, LND, Hammersmith       1\n",
              "US, WA, Seattle            1\n",
              "BE                         1\n",
              "GB, WSX, Chichester        1\n",
              "Name: location, Length: 3105, dtype: int64"
            ]
          },
          "metadata": {},
          "execution_count": 13
        }
      ],
      "source": [
        "data.location.value_counts()"
      ]
    },
    {
      "cell_type": "code",
      "execution_count": 14,
      "metadata": {
        "id": "PxIS8VfuZ0tg"
      },
      "outputs": [],
      "source": [
        "paises = [str(pais).split(',')[0] for pais in data['location']]"
      ]
    },
    {
      "cell_type": "code",
      "execution_count": 15,
      "metadata": {
        "colab": {
          "base_uri": "https://localhost:8080/"
        },
        "id": "i4mJnPNDiEg9",
        "outputId": "ecbeeb0e-3dca-40df-ce2e-8e75941fc3b5"
      },
      "outputs": [
        {
          "output_type": "execute_result",
          "data": {
            "text/plain": [
              "91"
            ]
          },
          "metadata": {},
          "execution_count": 15
        }
      ],
      "source": [
        "len(set(paises))"
      ]
    },
    {
      "cell_type": "markdown",
      "metadata": {
        "id": "tg2pg-d5E4qL"
      },
      "source": [
        "### salary_range"
      ]
    },
    {
      "cell_type": "markdown",
      "metadata": {
        "id": "Y0xloPy_XVDn"
      },
      "source": [
        "É uma coluna numérica porém da forma que é preenchida acaba por ser reconhecida como texto, pegar a média entre o minimo e maximo e transformar em apenas 2 classes(mais de 50 mil e menos de 50 mil por exemplo) seria um solução para que mesmo com poucas linhas preenchidas as classes ainda assim sejam representativas."
      ]
    },
    {
      "cell_type": "code",
      "execution_count": 16,
      "metadata": {
        "colab": {
          "base_uri": "https://localhost:8080/",
          "height": 0
        },
        "id": "y-mjmfXbVWTd",
        "outputId": "5ab45d52-b9d9-4c2f-ab4e-a1960cee4123"
      },
      "outputs": [
        {
          "output_type": "execute_result",
          "data": {
            "text/plain": [
              "    salary_range  fraudulent\n",
              "0    20000-28000           0\n",
              "1  100000-120000           0\n",
              "2  120000-150000           0\n",
              "3  100000-120000           0\n",
              "4    50000-65000           0"
            ],
            "text/html": [
              "\n",
              "  <div id=\"df-0327962c-fed4-4e07-bb7e-86fcaddd8736\">\n",
              "    <div class=\"colab-df-container\">\n",
              "      <div>\n",
              "<style scoped>\n",
              "    .dataframe tbody tr th:only-of-type {\n",
              "        vertical-align: middle;\n",
              "    }\n",
              "\n",
              "    .dataframe tbody tr th {\n",
              "        vertical-align: top;\n",
              "    }\n",
              "\n",
              "    .dataframe thead th {\n",
              "        text-align: right;\n",
              "    }\n",
              "</style>\n",
              "<table border=\"1\" class=\"dataframe\">\n",
              "  <thead>\n",
              "    <tr style=\"text-align: right;\">\n",
              "      <th></th>\n",
              "      <th>salary_range</th>\n",
              "      <th>fraudulent</th>\n",
              "    </tr>\n",
              "  </thead>\n",
              "  <tbody>\n",
              "    <tr>\n",
              "      <th>0</th>\n",
              "      <td>20000-28000</td>\n",
              "      <td>0</td>\n",
              "    </tr>\n",
              "    <tr>\n",
              "      <th>1</th>\n",
              "      <td>100000-120000</td>\n",
              "      <td>0</td>\n",
              "    </tr>\n",
              "    <tr>\n",
              "      <th>2</th>\n",
              "      <td>120000-150000</td>\n",
              "      <td>0</td>\n",
              "    </tr>\n",
              "    <tr>\n",
              "      <th>3</th>\n",
              "      <td>100000-120000</td>\n",
              "      <td>0</td>\n",
              "    </tr>\n",
              "    <tr>\n",
              "      <th>4</th>\n",
              "      <td>50000-65000</td>\n",
              "      <td>0</td>\n",
              "    </tr>\n",
              "  </tbody>\n",
              "</table>\n",
              "</div>\n",
              "      <button class=\"colab-df-convert\" onclick=\"convertToInteractive('df-0327962c-fed4-4e07-bb7e-86fcaddd8736')\"\n",
              "              title=\"Convert this dataframe to an interactive table.\"\n",
              "              style=\"display:none;\">\n",
              "        \n",
              "  <svg xmlns=\"http://www.w3.org/2000/svg\" height=\"24px\"viewBox=\"0 0 24 24\"\n",
              "       width=\"24px\">\n",
              "    <path d=\"M0 0h24v24H0V0z\" fill=\"none\"/>\n",
              "    <path d=\"M18.56 5.44l.94 2.06.94-2.06 2.06-.94-2.06-.94-.94-2.06-.94 2.06-2.06.94zm-11 1L8.5 8.5l.94-2.06 2.06-.94-2.06-.94L8.5 2.5l-.94 2.06-2.06.94zm10 10l.94 2.06.94-2.06 2.06-.94-2.06-.94-.94-2.06-.94 2.06-2.06.94z\"/><path d=\"M17.41 7.96l-1.37-1.37c-.4-.4-.92-.59-1.43-.59-.52 0-1.04.2-1.43.59L10.3 9.45l-7.72 7.72c-.78.78-.78 2.05 0 2.83L4 21.41c.39.39.9.59 1.41.59.51 0 1.02-.2 1.41-.59l7.78-7.78 2.81-2.81c.8-.78.8-2.07 0-2.86zM5.41 20L4 18.59l7.72-7.72 1.47 1.35L5.41 20z\"/>\n",
              "  </svg>\n",
              "      </button>\n",
              "      \n",
              "  <style>\n",
              "    .colab-df-container {\n",
              "      display:flex;\n",
              "      flex-wrap:wrap;\n",
              "      gap: 12px;\n",
              "    }\n",
              "\n",
              "    .colab-df-convert {\n",
              "      background-color: #E8F0FE;\n",
              "      border: none;\n",
              "      border-radius: 50%;\n",
              "      cursor: pointer;\n",
              "      display: none;\n",
              "      fill: #1967D2;\n",
              "      height: 32px;\n",
              "      padding: 0 0 0 0;\n",
              "      width: 32px;\n",
              "    }\n",
              "\n",
              "    .colab-df-convert:hover {\n",
              "      background-color: #E2EBFA;\n",
              "      box-shadow: 0px 1px 2px rgba(60, 64, 67, 0.3), 0px 1px 3px 1px rgba(60, 64, 67, 0.15);\n",
              "      fill: #174EA6;\n",
              "    }\n",
              "\n",
              "    [theme=dark] .colab-df-convert {\n",
              "      background-color: #3B4455;\n",
              "      fill: #D2E3FC;\n",
              "    }\n",
              "\n",
              "    [theme=dark] .colab-df-convert:hover {\n",
              "      background-color: #434B5C;\n",
              "      box-shadow: 0px 1px 3px 1px rgba(0, 0, 0, 0.15);\n",
              "      filter: drop-shadow(0px 1px 2px rgba(0, 0, 0, 0.3));\n",
              "      fill: #FFFFFF;\n",
              "    }\n",
              "  </style>\n",
              "\n",
              "      <script>\n",
              "        const buttonEl =\n",
              "          document.querySelector('#df-0327962c-fed4-4e07-bb7e-86fcaddd8736 button.colab-df-convert');\n",
              "        buttonEl.style.display =\n",
              "          google.colab.kernel.accessAllowed ? 'block' : 'none';\n",
              "\n",
              "        async function convertToInteractive(key) {\n",
              "          const element = document.querySelector('#df-0327962c-fed4-4e07-bb7e-86fcaddd8736');\n",
              "          const dataTable =\n",
              "            await google.colab.kernel.invokeFunction('convertToInteractive',\n",
              "                                                     [key], {});\n",
              "          if (!dataTable) return;\n",
              "\n",
              "          const docLinkHtml = 'Like what you see? Visit the ' +\n",
              "            '<a target=\"_blank\" href=https://colab.research.google.com/notebooks/data_table.ipynb>data table notebook</a>'\n",
              "            + ' to learn more about interactive tables.';\n",
              "          element.innerHTML = '';\n",
              "          dataTable['output_type'] = 'display_data';\n",
              "          await google.colab.output.renderOutput(dataTable, element);\n",
              "          const docLink = document.createElement('div');\n",
              "          docLink.innerHTML = docLinkHtml;\n",
              "          element.appendChild(docLink);\n",
              "        }\n",
              "      </script>\n",
              "    </div>\n",
              "  </div>\n",
              "  "
            ]
          },
          "metadata": {},
          "execution_count": 16
        }
      ],
      "source": [
        "data_salary = data[data.salary_range.isnull()==False].reset_index()[['salary_range','fraudulent']]\n",
        "data_salary.head()"
      ]
    },
    {
      "cell_type": "code",
      "execution_count": 17,
      "metadata": {
        "id": "4MswMS_SN1lf"
      },
      "outputs": [],
      "source": [
        "medias = []\n",
        "for salary in data_salary.salary_range:\n",
        "  primeiro = int(salary.split('-')[0])\n",
        "  try:\n",
        "        segundo = int(salary.split('-')[1])\n",
        "  except:\n",
        "        segundo = primeiro\n",
        "  media = (primeiro + segundo) / 2\n",
        "  medias.append(media)"
      ]
    },
    {
      "cell_type": "code",
      "execution_count": 18,
      "metadata": {
        "colab": {
          "base_uri": "https://localhost:8080/",
          "height": 0
        },
        "id": "R9HYbWgEO_5t",
        "outputId": "110f7e08-5fc3-45db-b225-e91965c4978e"
      },
      "outputs": [
        {
          "output_type": "execute_result",
          "data": {
            "text/plain": [
              "    salary_range  fraudulent    salary\n",
              "0    20000-28000           0   24000.0\n",
              "1  100000-120000           0  110000.0\n",
              "2  120000-150000           0  135000.0\n",
              "3  100000-120000           0  110000.0\n",
              "4    50000-65000           0   57500.0"
            ],
            "text/html": [
              "\n",
              "  <div id=\"df-ee80187c-35bd-4f0d-a68f-fecc7adb85d5\">\n",
              "    <div class=\"colab-df-container\">\n",
              "      <div>\n",
              "<style scoped>\n",
              "    .dataframe tbody tr th:only-of-type {\n",
              "        vertical-align: middle;\n",
              "    }\n",
              "\n",
              "    .dataframe tbody tr th {\n",
              "        vertical-align: top;\n",
              "    }\n",
              "\n",
              "    .dataframe thead th {\n",
              "        text-align: right;\n",
              "    }\n",
              "</style>\n",
              "<table border=\"1\" class=\"dataframe\">\n",
              "  <thead>\n",
              "    <tr style=\"text-align: right;\">\n",
              "      <th></th>\n",
              "      <th>salary_range</th>\n",
              "      <th>fraudulent</th>\n",
              "      <th>salary</th>\n",
              "    </tr>\n",
              "  </thead>\n",
              "  <tbody>\n",
              "    <tr>\n",
              "      <th>0</th>\n",
              "      <td>20000-28000</td>\n",
              "      <td>0</td>\n",
              "      <td>24000.0</td>\n",
              "    </tr>\n",
              "    <tr>\n",
              "      <th>1</th>\n",
              "      <td>100000-120000</td>\n",
              "      <td>0</td>\n",
              "      <td>110000.0</td>\n",
              "    </tr>\n",
              "    <tr>\n",
              "      <th>2</th>\n",
              "      <td>120000-150000</td>\n",
              "      <td>0</td>\n",
              "      <td>135000.0</td>\n",
              "    </tr>\n",
              "    <tr>\n",
              "      <th>3</th>\n",
              "      <td>100000-120000</td>\n",
              "      <td>0</td>\n",
              "      <td>110000.0</td>\n",
              "    </tr>\n",
              "    <tr>\n",
              "      <th>4</th>\n",
              "      <td>50000-65000</td>\n",
              "      <td>0</td>\n",
              "      <td>57500.0</td>\n",
              "    </tr>\n",
              "  </tbody>\n",
              "</table>\n",
              "</div>\n",
              "      <button class=\"colab-df-convert\" onclick=\"convertToInteractive('df-ee80187c-35bd-4f0d-a68f-fecc7adb85d5')\"\n",
              "              title=\"Convert this dataframe to an interactive table.\"\n",
              "              style=\"display:none;\">\n",
              "        \n",
              "  <svg xmlns=\"http://www.w3.org/2000/svg\" height=\"24px\"viewBox=\"0 0 24 24\"\n",
              "       width=\"24px\">\n",
              "    <path d=\"M0 0h24v24H0V0z\" fill=\"none\"/>\n",
              "    <path d=\"M18.56 5.44l.94 2.06.94-2.06 2.06-.94-2.06-.94-.94-2.06-.94 2.06-2.06.94zm-11 1L8.5 8.5l.94-2.06 2.06-.94-2.06-.94L8.5 2.5l-.94 2.06-2.06.94zm10 10l.94 2.06.94-2.06 2.06-.94-2.06-.94-.94-2.06-.94 2.06-2.06.94z\"/><path d=\"M17.41 7.96l-1.37-1.37c-.4-.4-.92-.59-1.43-.59-.52 0-1.04.2-1.43.59L10.3 9.45l-7.72 7.72c-.78.78-.78 2.05 0 2.83L4 21.41c.39.39.9.59 1.41.59.51 0 1.02-.2 1.41-.59l7.78-7.78 2.81-2.81c.8-.78.8-2.07 0-2.86zM5.41 20L4 18.59l7.72-7.72 1.47 1.35L5.41 20z\"/>\n",
              "  </svg>\n",
              "      </button>\n",
              "      \n",
              "  <style>\n",
              "    .colab-df-container {\n",
              "      display:flex;\n",
              "      flex-wrap:wrap;\n",
              "      gap: 12px;\n",
              "    }\n",
              "\n",
              "    .colab-df-convert {\n",
              "      background-color: #E8F0FE;\n",
              "      border: none;\n",
              "      border-radius: 50%;\n",
              "      cursor: pointer;\n",
              "      display: none;\n",
              "      fill: #1967D2;\n",
              "      height: 32px;\n",
              "      padding: 0 0 0 0;\n",
              "      width: 32px;\n",
              "    }\n",
              "\n",
              "    .colab-df-convert:hover {\n",
              "      background-color: #E2EBFA;\n",
              "      box-shadow: 0px 1px 2px rgba(60, 64, 67, 0.3), 0px 1px 3px 1px rgba(60, 64, 67, 0.15);\n",
              "      fill: #174EA6;\n",
              "    }\n",
              "\n",
              "    [theme=dark] .colab-df-convert {\n",
              "      background-color: #3B4455;\n",
              "      fill: #D2E3FC;\n",
              "    }\n",
              "\n",
              "    [theme=dark] .colab-df-convert:hover {\n",
              "      background-color: #434B5C;\n",
              "      box-shadow: 0px 1px 3px 1px rgba(0, 0, 0, 0.15);\n",
              "      filter: drop-shadow(0px 1px 2px rgba(0, 0, 0, 0.3));\n",
              "      fill: #FFFFFF;\n",
              "    }\n",
              "  </style>\n",
              "\n",
              "      <script>\n",
              "        const buttonEl =\n",
              "          document.querySelector('#df-ee80187c-35bd-4f0d-a68f-fecc7adb85d5 button.colab-df-convert');\n",
              "        buttonEl.style.display =\n",
              "          google.colab.kernel.accessAllowed ? 'block' : 'none';\n",
              "\n",
              "        async function convertToInteractive(key) {\n",
              "          const element = document.querySelector('#df-ee80187c-35bd-4f0d-a68f-fecc7adb85d5');\n",
              "          const dataTable =\n",
              "            await google.colab.kernel.invokeFunction('convertToInteractive',\n",
              "                                                     [key], {});\n",
              "          if (!dataTable) return;\n",
              "\n",
              "          const docLinkHtml = 'Like what you see? Visit the ' +\n",
              "            '<a target=\"_blank\" href=https://colab.research.google.com/notebooks/data_table.ipynb>data table notebook</a>'\n",
              "            + ' to learn more about interactive tables.';\n",
              "          element.innerHTML = '';\n",
              "          dataTable['output_type'] = 'display_data';\n",
              "          await google.colab.output.renderOutput(dataTable, element);\n",
              "          const docLink = document.createElement('div');\n",
              "          docLink.innerHTML = docLinkHtml;\n",
              "          element.appendChild(docLink);\n",
              "        }\n",
              "      </script>\n",
              "    </div>\n",
              "  </div>\n",
              "  "
            ]
          },
          "metadata": {},
          "execution_count": 18
        }
      ],
      "source": [
        "data_salary['salary'] = medias\n",
        "data_salary.head()"
      ]
    },
    {
      "cell_type": "code",
      "execution_count": 19,
      "metadata": {
        "colab": {
          "base_uri": "https://localhost:8080/"
        },
        "id": "M9GCNlVHPgW2",
        "outputId": "6cfad971-afc7-4467-ea76-768d4fe6a05e"
      },
      "outputs": [
        {
          "output_type": "execute_result",
          "data": {
            "text/plain": [
              "count    2.868000e+03\n",
              "mean     6.578367e+05\n",
              "std      2.226802e+07\n",
              "min      0.000000e+00\n",
              "25%      2.175000e+04\n",
              "50%      4.400000e+04\n",
              "75%      7.250000e+04\n",
              "max      1.000000e+09\n",
              "Name: salary, dtype: float64"
            ]
          },
          "metadata": {},
          "execution_count": 19
        }
      ],
      "source": [
        "data_salary.salary.describe()"
      ]
    },
    {
      "cell_type": "code",
      "execution_count": 20,
      "metadata": {
        "colab": {
          "base_uri": "https://localhost:8080/",
          "height": 0
        },
        "id": "3oKnbpzqQnvz",
        "outputId": "64794ed7-c4d0-4c5f-ac98-4c6d13ca6d66"
      },
      "outputs": [
        {
          "output_type": "execute_result",
          "data": {
            "text/plain": [
              "             count           mean           std  min      25%      50%  \\\n",
              "fraudulent                                                               \n",
              "0           2645.0  703800.070888  2.318701e+07  0.0  21500.0  45000.0   \n",
              "1            223.0  112666.035874  5.138731e+05  0.0  25500.0  37500.0   \n",
              "\n",
              "                75%           max  \n",
              "fraudulent                         \n",
              "0           72500.0  1.000000e+09  \n",
              "1           70000.0  7.424352e+06  "
            ],
            "text/html": [
              "\n",
              "  <div id=\"df-571085d0-45ea-42ee-99a8-bb88b67671c6\">\n",
              "    <div class=\"colab-df-container\">\n",
              "      <div>\n",
              "<style scoped>\n",
              "    .dataframe tbody tr th:only-of-type {\n",
              "        vertical-align: middle;\n",
              "    }\n",
              "\n",
              "    .dataframe tbody tr th {\n",
              "        vertical-align: top;\n",
              "    }\n",
              "\n",
              "    .dataframe thead th {\n",
              "        text-align: right;\n",
              "    }\n",
              "</style>\n",
              "<table border=\"1\" class=\"dataframe\">\n",
              "  <thead>\n",
              "    <tr style=\"text-align: right;\">\n",
              "      <th></th>\n",
              "      <th>count</th>\n",
              "      <th>mean</th>\n",
              "      <th>std</th>\n",
              "      <th>min</th>\n",
              "      <th>25%</th>\n",
              "      <th>50%</th>\n",
              "      <th>75%</th>\n",
              "      <th>max</th>\n",
              "    </tr>\n",
              "    <tr>\n",
              "      <th>fraudulent</th>\n",
              "      <th></th>\n",
              "      <th></th>\n",
              "      <th></th>\n",
              "      <th></th>\n",
              "      <th></th>\n",
              "      <th></th>\n",
              "      <th></th>\n",
              "      <th></th>\n",
              "    </tr>\n",
              "  </thead>\n",
              "  <tbody>\n",
              "    <tr>\n",
              "      <th>0</th>\n",
              "      <td>2645.0</td>\n",
              "      <td>703800.070888</td>\n",
              "      <td>2.318701e+07</td>\n",
              "      <td>0.0</td>\n",
              "      <td>21500.0</td>\n",
              "      <td>45000.0</td>\n",
              "      <td>72500.0</td>\n",
              "      <td>1.000000e+09</td>\n",
              "    </tr>\n",
              "    <tr>\n",
              "      <th>1</th>\n",
              "      <td>223.0</td>\n",
              "      <td>112666.035874</td>\n",
              "      <td>5.138731e+05</td>\n",
              "      <td>0.0</td>\n",
              "      <td>25500.0</td>\n",
              "      <td>37500.0</td>\n",
              "      <td>70000.0</td>\n",
              "      <td>7.424352e+06</td>\n",
              "    </tr>\n",
              "  </tbody>\n",
              "</table>\n",
              "</div>\n",
              "      <button class=\"colab-df-convert\" onclick=\"convertToInteractive('df-571085d0-45ea-42ee-99a8-bb88b67671c6')\"\n",
              "              title=\"Convert this dataframe to an interactive table.\"\n",
              "              style=\"display:none;\">\n",
              "        \n",
              "  <svg xmlns=\"http://www.w3.org/2000/svg\" height=\"24px\"viewBox=\"0 0 24 24\"\n",
              "       width=\"24px\">\n",
              "    <path d=\"M0 0h24v24H0V0z\" fill=\"none\"/>\n",
              "    <path d=\"M18.56 5.44l.94 2.06.94-2.06 2.06-.94-2.06-.94-.94-2.06-.94 2.06-2.06.94zm-11 1L8.5 8.5l.94-2.06 2.06-.94-2.06-.94L8.5 2.5l-.94 2.06-2.06.94zm10 10l.94 2.06.94-2.06 2.06-.94-2.06-.94-.94-2.06-.94 2.06-2.06.94z\"/><path d=\"M17.41 7.96l-1.37-1.37c-.4-.4-.92-.59-1.43-.59-.52 0-1.04.2-1.43.59L10.3 9.45l-7.72 7.72c-.78.78-.78 2.05 0 2.83L4 21.41c.39.39.9.59 1.41.59.51 0 1.02-.2 1.41-.59l7.78-7.78 2.81-2.81c.8-.78.8-2.07 0-2.86zM5.41 20L4 18.59l7.72-7.72 1.47 1.35L5.41 20z\"/>\n",
              "  </svg>\n",
              "      </button>\n",
              "      \n",
              "  <style>\n",
              "    .colab-df-container {\n",
              "      display:flex;\n",
              "      flex-wrap:wrap;\n",
              "      gap: 12px;\n",
              "    }\n",
              "\n",
              "    .colab-df-convert {\n",
              "      background-color: #E8F0FE;\n",
              "      border: none;\n",
              "      border-radius: 50%;\n",
              "      cursor: pointer;\n",
              "      display: none;\n",
              "      fill: #1967D2;\n",
              "      height: 32px;\n",
              "      padding: 0 0 0 0;\n",
              "      width: 32px;\n",
              "    }\n",
              "\n",
              "    .colab-df-convert:hover {\n",
              "      background-color: #E2EBFA;\n",
              "      box-shadow: 0px 1px 2px rgba(60, 64, 67, 0.3), 0px 1px 3px 1px rgba(60, 64, 67, 0.15);\n",
              "      fill: #174EA6;\n",
              "    }\n",
              "\n",
              "    [theme=dark] .colab-df-convert {\n",
              "      background-color: #3B4455;\n",
              "      fill: #D2E3FC;\n",
              "    }\n",
              "\n",
              "    [theme=dark] .colab-df-convert:hover {\n",
              "      background-color: #434B5C;\n",
              "      box-shadow: 0px 1px 3px 1px rgba(0, 0, 0, 0.15);\n",
              "      filter: drop-shadow(0px 1px 2px rgba(0, 0, 0, 0.3));\n",
              "      fill: #FFFFFF;\n",
              "    }\n",
              "  </style>\n",
              "\n",
              "      <script>\n",
              "        const buttonEl =\n",
              "          document.querySelector('#df-571085d0-45ea-42ee-99a8-bb88b67671c6 button.colab-df-convert');\n",
              "        buttonEl.style.display =\n",
              "          google.colab.kernel.accessAllowed ? 'block' : 'none';\n",
              "\n",
              "        async function convertToInteractive(key) {\n",
              "          const element = document.querySelector('#df-571085d0-45ea-42ee-99a8-bb88b67671c6');\n",
              "          const dataTable =\n",
              "            await google.colab.kernel.invokeFunction('convertToInteractive',\n",
              "                                                     [key], {});\n",
              "          if (!dataTable) return;\n",
              "\n",
              "          const docLinkHtml = 'Like what you see? Visit the ' +\n",
              "            '<a target=\"_blank\" href=https://colab.research.google.com/notebooks/data_table.ipynb>data table notebook</a>'\n",
              "            + ' to learn more about interactive tables.';\n",
              "          element.innerHTML = '';\n",
              "          dataTable['output_type'] = 'display_data';\n",
              "          await google.colab.output.renderOutput(dataTable, element);\n",
              "          const docLink = document.createElement('div');\n",
              "          docLink.innerHTML = docLinkHtml;\n",
              "          element.appendChild(docLink);\n",
              "        }\n",
              "      </script>\n",
              "    </div>\n",
              "  </div>\n",
              "  "
            ]
          },
          "metadata": {},
          "execution_count": 20
        }
      ],
      "source": [
        "data_salary.groupby('fraudulent')['salary'].describe()"
      ]
    },
    {
      "cell_type": "markdown",
      "metadata": {
        "id": "PeG1uzCNoBq3"
      },
      "source": [
        "### Demais colunas"
      ]
    },
    {
      "cell_type": "markdown",
      "metadata": {
        "id": "z81-U8JYJe-e"
      },
      "source": [
        "Transformar em 'Other' todas as categorias que representam menos de 1% dos dados."
      ]
    },
    {
      "cell_type": "markdown",
      "metadata": {
        "id": "f-AO1o47JDRU"
      },
      "source": [
        "department, employment_type, required_experience, required_education, industry, function"
      ]
    },
    {
      "cell_type": "code",
      "execution_count": 21,
      "metadata": {
        "colab": {
          "base_uri": "https://localhost:8080/"
        },
        "id": "JDkWKjW7ohCM",
        "outputId": "05d76198-ac6d-4129-92a7-898a0afa8546"
      },
      "outputs": [
        {
          "output_type": "execute_result",
          "data": {
            "text/plain": [
              "178.8"
            ]
          },
          "metadata": {},
          "execution_count": 21
        }
      ],
      "source": [
        "len(data) * 0.01"
      ]
    },
    {
      "cell_type": "code",
      "execution_count": 22,
      "metadata": {
        "colab": {
          "base_uri": "https://localhost:8080/"
        },
        "id": "pMAR_1_IodAJ",
        "outputId": "fffa3b83-55c3-42fb-fde4-850c2b6f5a43"
      },
      "outputs": [
        {
          "output_type": "execute_result",
          "data": {
            "text/plain": [
              "Full-time    11620\n",
              "Contract      1524\n",
              "Part-time      797\n",
              "Temporary      241\n",
              "Other          227\n",
              "Name: employment_type, dtype: int64"
            ]
          },
          "metadata": {},
          "execution_count": 22
        }
      ],
      "source": [
        "data.employment_type.value_counts()"
      ]
    },
    {
      "cell_type": "code",
      "execution_count": 23,
      "metadata": {
        "colab": {
          "base_uri": "https://localhost:8080/"
        },
        "id": "tBojzwMdofKl",
        "outputId": "208f0585-0723-4d88-d5d5-9a65c6d80bbd"
      },
      "outputs": [
        {
          "output_type": "execute_result",
          "data": {
            "text/plain": [
              "Mid-Senior level    3809\n",
              "Entry level         2697\n",
              "Associate           2297\n",
              "Not Applicable      1116\n",
              "Director             389\n",
              "Internship           381\n",
              "Executive            141\n",
              "Name: required_experience, dtype: int64"
            ]
          },
          "metadata": {},
          "execution_count": 23
        }
      ],
      "source": [
        "data.required_experience.value_counts()"
      ]
    },
    {
      "cell_type": "markdown",
      "metadata": {
        "id": "w90v4kPBKHHW"
      },
      "source": [
        "# 2 - Pré-processamento"
      ]
    },
    {
      "cell_type": "code",
      "execution_count": 24,
      "metadata": {
        "id": "EXCy-Ak-LsNr"
      },
      "outputs": [],
      "source": [
        "x = data.drop('fraudulent',axis=1).copy()\n",
        "y = data.fraudulent.copy()\n",
        "x_train,x_test,y_train,y_test = train_test_split(x,y,train_size=0.8,random_state=50)"
      ]
    },
    {
      "cell_type": "code",
      "execution_count": 25,
      "metadata": {
        "id": "3rUSsAkFgmbb"
      },
      "outputs": [],
      "source": [
        "x_train.reset_index(drop=True,inplace=True)\n",
        "x_test.reset_index(drop=True,inplace=True)\n",
        "y_train.reset_index(drop=True,inplace=True)\n",
        "y_test.reset_index(drop=True,inplace=True)"
      ]
    },
    {
      "cell_type": "markdown",
      "source": [
        "## 2.1 - Variáveis binárias e categóricas"
      ],
      "metadata": {
        "id": "Gizrpc1h7UVG"
      }
    },
    {
      "cell_type": "markdown",
      "metadata": {
        "id": "-xRRBOonKlqi"
      },
      "source": [
        "### Criação de variáveis binárias"
      ]
    },
    {
      "cell_type": "code",
      "execution_count": 26,
      "metadata": {
        "colab": {
          "base_uri": "https://localhost:8080/"
        },
        "id": "Ig4CI64mK3q6",
        "outputId": "edbd7052-01b2-422a-feee-8ae342f5e77a"
      },
      "outputs": [
        {
          "output_type": "execute_result",
          "data": {
            "text/plain": [
              "['title', 'company_profile', 'description', 'requirements', 'benefits']"
            ]
          },
          "metadata": {},
          "execution_count": 26
        }
      ],
      "source": [
        "colunas_nlp"
      ]
    },
    {
      "cell_type": "code",
      "execution_count": 27,
      "metadata": {
        "id": "f4Lx48-tgN7b"
      },
      "outputs": [],
      "source": [
        "colunas_nlp_has = ['company_profile','requirements','benefits']"
      ]
    },
    {
      "cell_type": "code",
      "execution_count": 28,
      "metadata": {
        "id": "mxhkDD3mqKZL"
      },
      "outputs": [],
      "source": [
        "def pp_nlp_has(data):\n",
        "  for coluna in colunas_nlp_has:\n",
        "    data['has_' + str(coluna)] = data[coluna].isnull().replace({False:0,True:1})\n",
        "  return data"
      ]
    },
    {
      "cell_type": "code",
      "execution_count": 29,
      "metadata": {
        "id": "OwIji2weLMzp"
      },
      "outputs": [],
      "source": [
        "x_train = pp_nlp_has(x_train)"
      ]
    },
    {
      "cell_type": "markdown",
      "metadata": {
        "id": "E2d1TlZR1ijO"
      },
      "source": [
        "### Preenchendo valores nulos"
      ]
    },
    {
      "cell_type": "code",
      "execution_count": 30,
      "metadata": {
        "colab": {
          "base_uri": "https://localhost:8080/"
        },
        "id": "ctvEcWRq2A3R",
        "outputId": "4c4d99aa-041e-4a7d-fee1-d0e1a43c807c"
      },
      "outputs": [
        {
          "output_type": "execute_result",
          "data": {
            "text/plain": [
              "['title', 'company_profile', 'description', 'requirements', 'benefits']"
            ]
          },
          "metadata": {},
          "execution_count": 30
        }
      ],
      "source": [
        "colunas_nlp"
      ]
    },
    {
      "cell_type": "code",
      "execution_count": 31,
      "metadata": {
        "colab": {
          "base_uri": "https://localhost:8080/"
        },
        "id": "IYT2tFA02oTj",
        "outputId": "38585d0b-c9d6-4100-deb2-959b015b25ae"
      },
      "outputs": [
        {
          "output_type": "execute_result",
          "data": {
            "text/plain": [
              "['location',\n",
              " 'department',\n",
              " 'salary_range',\n",
              " 'employment_type',\n",
              " 'required_experience',\n",
              " 'required_education',\n",
              " 'industry',\n",
              " 'function']"
            ]
          },
          "metadata": {},
          "execution_count": 31
        }
      ],
      "source": [
        "colunas_cat"
      ]
    },
    {
      "cell_type": "code",
      "execution_count": 32,
      "metadata": {
        "id": "ZWbcxmVO17Gi"
      },
      "outputs": [],
      "source": [
        "def preencher_nulos(data):\n",
        "  for coluna in colunas_nlp:\n",
        "    data[coluna] = data[coluna].fillna(' ')\n",
        "  for coluna in colunas_cat:\n",
        "    data[coluna] = data[coluna].fillna('Indefinido')\n",
        "  return data"
      ]
    },
    {
      "cell_type": "code",
      "execution_count": 33,
      "metadata": {
        "id": "Zq-twuqC2QXn"
      },
      "outputs": [],
      "source": [
        "x_train = preencher_nulos(x_train)"
      ]
    },
    {
      "cell_type": "code",
      "execution_count": 34,
      "metadata": {
        "colab": {
          "base_uri": "https://localhost:8080/"
        },
        "id": "SNsz7QUH2XTg",
        "outputId": "abbb48a6-7dd3-42f3-d4dc-70b1fb0bb919"
      },
      "outputs": [
        {
          "output_type": "execute_result",
          "data": {
            "text/plain": [
              "title                  0\n",
              "location               0\n",
              "department             0\n",
              "salary_range           0\n",
              "company_profile        0\n",
              "description            0\n",
              "requirements           0\n",
              "benefits               0\n",
              "telecommuting          0\n",
              "has_company_logo       0\n",
              "has_questions          0\n",
              "employment_type        0\n",
              "required_experience    0\n",
              "required_education     0\n",
              "industry               0\n",
              "function               0\n",
              "has_company_profile    0\n",
              "has_requirements       0\n",
              "has_benefits           0\n",
              "dtype: int64"
            ]
          },
          "metadata": {},
          "execution_count": 34
        }
      ],
      "source": [
        "x_train.isnull().sum()"
      ]
    },
    {
      "cell_type": "markdown",
      "metadata": {
        "id": "Zl13bd5NMfmI"
      },
      "source": [
        "### Variável salary_range"
      ]
    },
    {
      "cell_type": "code",
      "execution_count": 35,
      "metadata": {
        "id": "hKF1vlibMHo1"
      },
      "outputs": [],
      "source": [
        "data_salary = x_train[x_train.salary_range!='Indefinido'].reset_index().salary_range\n",
        "def pega_media_salary(salary):\n",
        "  primeiro = int(salary.split('-')[0])\n",
        "  try:\n",
        "        segundo = int(salary.split('-')[1])\n",
        "  except:\n",
        "        segundo = primeiro\n",
        "  media = (primeiro + segundo) / 2\n",
        "  return media\n",
        "\n",
        "medias = [pega_media_salary(salary) for salary in data_salary]"
      ]
    },
    {
      "cell_type": "code",
      "execution_count": 36,
      "metadata": {
        "colab": {
          "base_uri": "https://localhost:8080/"
        },
        "id": "Q_-bmFRGNg1Q",
        "outputId": "fd80e6b1-e563-41e6-b985-cb589e53fe68"
      },
      "outputs": [
        {
          "output_type": "execute_result",
          "data": {
            "text/plain": [
              "45000.0"
            ]
          },
          "metadata": {},
          "execution_count": 36
        }
      ],
      "source": [
        "mediana_salary = statistics.median(medias)\n",
        "mediana_salary"
      ]
    },
    {
      "cell_type": "code",
      "execution_count": 37,
      "metadata": {
        "id": "D_U38gKHi_r9"
      },
      "outputs": [],
      "source": [
        "def pp_salary_range(x):\n",
        "    try:\n",
        "        media = pega_media_salary(x)\n",
        "        if media <= mediana_salary:\n",
        "            grupo = '-median'\n",
        "        else:\n",
        "            grupo = '+median'\n",
        "    except:\n",
        "        grupo = 'Indefinido'\n",
        "    \n",
        "    return grupo"
      ]
    },
    {
      "cell_type": "code",
      "execution_count": 38,
      "metadata": {
        "id": "-gQxyJPdltaA"
      },
      "outputs": [],
      "source": [
        "x_train['salary_range'] = x_train.salary_range.apply(pp_salary_range)"
      ]
    },
    {
      "cell_type": "code",
      "execution_count": 39,
      "metadata": {
        "colab": {
          "base_uri": "https://localhost:8080/"
        },
        "id": "tE2uofw6pxsH",
        "outputId": "489ebd1e-4ac2-4dce-d8c6-1688ffae983e"
      },
      "outputs": [
        {
          "output_type": "execute_result",
          "data": {
            "text/plain": [
              "Indefinido    12009\n",
              "-median        1212\n",
              "+median        1083\n",
              "Name: salary_range, dtype: int64"
            ]
          },
          "metadata": {},
          "execution_count": 39
        }
      ],
      "source": [
        "x_train.salary_range.value_counts()"
      ]
    },
    {
      "cell_type": "markdown",
      "metadata": {
        "id": "XejBoJr7ozVr"
      },
      "source": [
        "### Variáveis binárias"
      ]
    },
    {
      "cell_type": "code",
      "execution_count": 40,
      "metadata": {
        "id": "DPfktFRLrO6y"
      },
      "outputs": [],
      "source": [
        "def pp_var_binarias(data):\n",
        "  for coluna in colunas_bi:\n",
        "    data[coluna] = data[coluna].replace({'t':1,'f':0})\n",
        "  return data"
      ]
    },
    {
      "cell_type": "code",
      "execution_count": 41,
      "metadata": {
        "id": "DVjGkZcAr4dV"
      },
      "outputs": [],
      "source": [
        "x_train = pp_var_binarias(x_train)"
      ]
    },
    {
      "cell_type": "markdown",
      "metadata": {
        "id": "w9TaN2yEs4J0"
      },
      "source": [
        "### Variável location"
      ]
    },
    {
      "cell_type": "code",
      "execution_count": 42,
      "metadata": {
        "id": "iE4RqsO-sAhj"
      },
      "outputs": [],
      "source": [
        "def pp_paises(data):\n",
        "  data['paises'] = [str(local).split(',')[0] for local in data['location']]\n",
        "  data = data.drop('location',axis=1)\n",
        "  return data"
      ]
    },
    {
      "cell_type": "code",
      "execution_count": 43,
      "metadata": {
        "id": "EvtHyE6ls-2b"
      },
      "outputs": [],
      "source": [
        "x_train = pp_paises(x_train)"
      ]
    },
    {
      "cell_type": "markdown",
      "metadata": {
        "id": "oIqiFxcQw4wg"
      },
      "source": [
        "### Diminuindo a dimensionalidade das variáveis categóricas"
      ]
    },
    {
      "cell_type": "markdown",
      "metadata": {
        "id": "snUFSTV9z2Mx"
      },
      "source": [
        "Deixando apenas categorias que representam pelo menos 1% dos dados"
      ]
    },
    {
      "cell_type": "code",
      "execution_count": 44,
      "metadata": {
        "id": "aLV_xTIMya_Z"
      },
      "outputs": [],
      "source": [
        "colunas_cat2 = colunas_cat.copy()\n",
        "colunas_cat2.append('paises')\n",
        "colunas_cat2.remove('location')"
      ]
    },
    {
      "cell_type": "code",
      "execution_count": 45,
      "metadata": {
        "colab": {
          "base_uri": "https://localhost:8080/"
        },
        "id": "u4dXafhbzwJp",
        "outputId": "0afe0a4e-2eb0-4b1d-a5e4-800c6a22f672"
      },
      "outputs": [
        {
          "output_type": "execute_result",
          "data": {
            "text/plain": [
              "['department',\n",
              " 'salary_range',\n",
              " 'employment_type',\n",
              " 'required_experience',\n",
              " 'required_education',\n",
              " 'industry',\n",
              " 'function',\n",
              " 'paises']"
            ]
          },
          "metadata": {},
          "execution_count": 45
        }
      ],
      "source": [
        "colunas_cat2"
      ]
    },
    {
      "cell_type": "code",
      "execution_count": 46,
      "metadata": {
        "colab": {
          "base_uri": "https://localhost:8080/"
        },
        "id": "FQXv4bzu0iug",
        "outputId": "9a221c75-79a6-4d1f-97ef-8b14adb23540"
      },
      "outputs": [
        {
          "output_type": "execute_result",
          "data": {
            "text/plain": [
              "143"
            ]
          },
          "metadata": {},
          "execution_count": 46
        }
      ],
      "source": [
        "min = int(len(x_train)*0.01)\n",
        "min"
      ]
    },
    {
      "cell_type": "code",
      "execution_count": 47,
      "metadata": {
        "colab": {
          "base_uri": "https://localhost:8080/"
        },
        "id": "YufdOGlq0Vhw",
        "outputId": "9c613c5f-46eb-4d65-8dd1-e7b4aecfbe54"
      },
      "outputs": [
        {
          "output_type": "execute_result",
          "data": {
            "text/plain": [
              "['Indefinido', 'Sales', 'Engineering', 'Marketing', 'Operations', 'IT']"
            ]
          },
          "metadata": {},
          "execution_count": 47
        }
      ],
      "source": [
        "list(x_train.department.value_counts()[x_train.department.value_counts() >= min].index)"
      ]
    },
    {
      "cell_type": "code",
      "execution_count": 48,
      "metadata": {
        "id": "rE5B53Juw9j2"
      },
      "outputs": [],
      "source": [
        "colunas_cat_outros = {}\n",
        "for coluna in colunas_cat2:\n",
        "  ops = list(x_train[coluna].value_counts()[x_train[coluna].value_counts() >= min].index)\n",
        "  colunas_cat_outros[coluna] = ops"
      ]
    },
    {
      "cell_type": "code",
      "execution_count": 49,
      "metadata": {
        "id": "CjwJWM285ONC"
      },
      "outputs": [],
      "source": [
        "def diminui_cat(data):\n",
        "  for coluna in colunas_cat2:\n",
        "    col_pronta = []\n",
        "    for linha in data[coluna]:\n",
        "      if linha in colunas_cat_outros[coluna]:\n",
        "        col_pronta.append(linha)\n",
        "      else:\n",
        "        col_pronta.append('Outros')\n",
        "    data[coluna] = col_pronta\n",
        "  \n",
        "  return data"
      ]
    },
    {
      "cell_type": "code",
      "execution_count": 50,
      "metadata": {
        "id": "-zazz2nk8s46"
      },
      "outputs": [],
      "source": [
        "x_train = diminui_cat(x_train)"
      ]
    },
    {
      "cell_type": "markdown",
      "metadata": {
        "id": "HvzqB8fh-BdJ"
      },
      "source": [
        "Nova dimensionalidade das colunas"
      ]
    },
    {
      "cell_type": "code",
      "execution_count": 51,
      "metadata": {
        "colab": {
          "base_uri": "https://localhost:8080/"
        },
        "id": "o0LNZw8U8wpR",
        "outputId": "db70d1ae-fdcc-494c-f33b-3de7f927e814"
      },
      "outputs": [
        {
          "output_type": "stream",
          "name": "stdout",
          "text": [
            "Coluna: department\n",
            "Quantidade de categorias unicas: 7\n",
            "\n",
            "Coluna: salary_range\n",
            "Quantidade de categorias unicas: 3\n",
            "\n",
            "Coluna: employment_type\n",
            "Quantidade de categorias unicas: 6\n",
            "\n",
            "Coluna: required_experience\n",
            "Quantidade de categorias unicas: 8\n",
            "\n",
            "Coluna: required_education\n",
            "Quantidade de categorias unicas: 7\n",
            "\n",
            "Coluna: industry\n",
            "Quantidade de categorias unicas: 13\n",
            "\n",
            "Coluna: function\n",
            "Quantidade de categorias unicas: 17\n",
            "\n",
            "Coluna: paises\n",
            "Quantidade de categorias unicas: 10\n",
            "\n"
          ]
        }
      ],
      "source": [
        "for coluna in colunas_cat2:\n",
        "  print(\"Coluna: {}\\nQuantidade de categorias unicas: {}\\n\".format(coluna,len(x_train[coluna].unique())))"
      ]
    },
    {
      "cell_type": "markdown",
      "metadata": {
        "id": "hCgbVIDb-D2M"
      },
      "source": [
        "### OneHot Encoding"
      ]
    },
    {
      "cell_type": "code",
      "execution_count": 52,
      "metadata": {
        "colab": {
          "base_uri": "https://localhost:8080/"
        },
        "id": "LIUNGC7B-1xh",
        "outputId": "875e2dbc-9c22-44c9-de47-230ed5edafb2"
      },
      "outputs": [
        {
          "output_type": "execute_result",
          "data": {
            "text/plain": [
              "['department',\n",
              " 'salary_range',\n",
              " 'employment_type',\n",
              " 'required_experience',\n",
              " 'required_education',\n",
              " 'industry',\n",
              " 'function',\n",
              " 'paises']"
            ]
          },
          "metadata": {},
          "execution_count": 52
        }
      ],
      "source": [
        "colunas_cat2"
      ]
    },
    {
      "cell_type": "code",
      "execution_count": 53,
      "metadata": {
        "id": "b6W9zvj499dO"
      },
      "outputs": [],
      "source": [
        "def onehot_cat(data):\n",
        "  for col in colunas_cat2:\n",
        "      data = pd.concat([data,pd.get_dummies(data[col],prefix=col)],axis=1)\n",
        "      data.drop(col,inplace=True,axis=1)\n",
        "  return data"
      ]
    },
    {
      "cell_type": "code",
      "execution_count": 54,
      "metadata": {
        "id": "u1luXNAp-tCg"
      },
      "outputs": [],
      "source": [
        "x_train = onehot_cat(x_train)"
      ]
    },
    {
      "cell_type": "code",
      "execution_count": 55,
      "metadata": {
        "colab": {
          "base_uri": "https://localhost:8080/"
        },
        "id": "JF8tEA2w_dBh",
        "outputId": "6f8733f5-df08-4cd9-a110-597a07416be6"
      },
      "outputs": [
        {
          "output_type": "execute_result",
          "data": {
            "text/plain": [
              "(14304, 82)"
            ]
          },
          "metadata": {},
          "execution_count": 55
        }
      ],
      "source": [
        "x_train.shape"
      ]
    },
    {
      "cell_type": "markdown",
      "metadata": {
        "id": "Gaeoe_Lw_sg6"
      },
      "source": [
        "### Juntando todas variáveis textuais em uma"
      ]
    },
    {
      "cell_type": "code",
      "execution_count": 56,
      "metadata": {
        "colab": {
          "base_uri": "https://localhost:8080/"
        },
        "id": "tOTpj5HnALIo",
        "outputId": "c349f825-db29-4987-8f68-ba2aec925696"
      },
      "outputs": [
        {
          "output_type": "execute_result",
          "data": {
            "text/plain": [
              "['title', 'company_profile', 'description', 'requirements', 'benefits']"
            ]
          },
          "metadata": {},
          "execution_count": 56
        }
      ],
      "source": [
        "colunas_nlp = list(x_train.dtypes[x_train.dtypes == object].index)\n",
        "colunas_nlp"
      ]
    },
    {
      "cell_type": "code",
      "execution_count": 57,
      "metadata": {
        "id": "BfD7Hi_M_qg_"
      },
      "outputs": [],
      "source": [
        "def junta_colunas_nlp(data):\n",
        "  data['texto'] = ''\n",
        "  for coluna in colunas_nlp:\n",
        "    data['texto'] = data['texto'] + ' ' + data[coluna]\n",
        "    data.drop(coluna,axis=1,inplace=True)\n",
        "  return data"
      ]
    },
    {
      "cell_type": "code",
      "execution_count": 58,
      "metadata": {
        "colab": {
          "base_uri": "https://localhost:8080/",
          "height": 0
        },
        "id": "W-CgNDPBBJFC",
        "outputId": "4eece9ae-4b64-47ff-8015-9ba301da68f2"
      },
      "outputs": [
        {
          "output_type": "execute_result",
          "data": {
            "text/plain": [
              "' Communications Manager  <p><img src=\"#URL_7dd25bbdf11346f7789ced0f5989ec294c4798d31563fb9542a59e162e6829af#\"></p>\\r\\n<p>#URL_ddb080358fa5eecf5a67c649cfb4ffc343c484389f1bbaf2a1cb071e3f2b6e7e# and Aptitude Staffing Solutions have partnered up in an effort to streamline the hiring process and provide a more efficient and effective recruitng model.\\xa0 Our focus is to help develop and achieve your career goals while makeing a solid geographical, cultural and professional fiit when leveraging your career into your new and exciting professional venture!</p>\\r\\n<p>Please direct all communications throughout this process to the HR department at Aptitude Staffing Solutions</p>\\r\\n<p><a href=\"mailto:#EMAIL_0c020555b4dbc1c1e03d03c46cc181bcfde81bf5b20fea95d1bc7dc64c79814c#\" rel=\"nofollow\" class=\"external\">#EMAIL_0c020555b4dbc1c1e03d03c46cc181bcfde81bf5b20fea95d1bc7dc64c79814c#</a></p>\\r\\n<p>Darren Lawson | VP of Recruiting | <a href=\"mailto:#EMAIL_f4da338e899ddba983ac771b001681d1d2d93b3327ddc420a15f4e5a310071a9#\" rel=\"nofollow\" class=\"external\">#EMAIL_f4da338e899ddba983ac771b001681d1d2d93b3327ddc420a15f4e5a310071a9#</a>\\xa0| #PHONE_90d33c9d7ec1484aebfe37b153d677decc6f5f53b316489ed24061544c04eb66#</p>\\r\\n<p></p>\\r\\n<p></p> <p><b><img src=\"#URL_7dd25bbdf11346f7789ced0f5989ec294c4798d31563fb9542a59e162e6829af#\"></b></p>\\r\\n<p><b>Qualified candidates are encouraged to apply directly to this job posting. \\xa0Direct email and phone calls are not being considered. Thank you for your cooperation. \\xa0Please no recruiters. \\xa0</b></p>\\r\\n<p></p>\\r\\n<p></p>\\r\\n<p><b>Communications Manager |\\xa0New York, NY, United States</b></p>\\r\\n<p><b>J</b><b>OB DESCRIPTION</b>:<br>We help brand advertisers, agencies, publishers and ad networks intelligently, effectively and safely plan, buy and measure billions of video ad trades programmatically every month across Web, mobile and linear TV. #URL_ddb080358fa5eecf5a67c649cfb4ffc343c484389f1bbaf2a1cb071e3f2b6e7e#’s marketing and communications group works closely together and with colleagues across all departments to create, package and communicate the company’s market leadership around the world. We have a passion for telling the right story to the right people at the right time, and if you’d like to be part of the world’s greatest marketing and communications team, come tell us your story.\\xa0<br> \\xa0<br> The Communications Manager will be based in #URL_ddb080358fa5eecf5a67c649cfb4ffc343c484389f1bbaf2a1cb071e3f2b6e7e#’s New York City offices and report to our Director of Communications. While contributing to our overall global communications strategy across APAC and EMEA regions, the position will focus on the North American market.\\xa0<br> We are especially looking for creative writers who have the ability to explain complex ideas in simple ways and who are driven to making big ideas into reality. As such, you should have a solid understanding of the media and technology space, including industry trends and key players.\\xa0<br> \\xa0<br><b>Responsibilities for this critical position include:</b>\\xa0</p>\\r\\n<p><br> - Manage and execute on a strategic editorial and communications calendar that amplifies our presence at industry events and in key target media;\\xa0<br> - Writing, and lots of it. From press releases to copyediting and copywriting assignments, you’ll be doing a bit of everything that involves the written word<br> - Proactive approach to content; bring new ideas to the table and make them come to life.<br> - Demonstrate business impact of marketing and communications using existing and new digital and social media platforms (with a focus on Twitter, LinkedIn and Facebook)<br> - Cultivate existing and develop new relationships with trade, business and tech media outlets, and position #URL_ddb080358fa5eecf5a67c649cfb4ffc343c484389f1bbaf2a1cb071e3f2b6e7e#’s executives as thought leaders on a number of relevant topics<br> - Support for traditional PR and digital media programs internally and externally\\xa0</p>\\r\\n<p></p> <p><b>Some of the desired skills and experience for this position include, but are not limited to</b>:\\xa0<br> - BA/BS/Undergraduate (degree in Communications, English or Journalism is preferred) - 4-6 years of experience at PR agencies, in corporate communications or in journalism\\xa0<br> - Excellent writing and verbal communications skills\\xa0<br> - Experience and knowledge of tech PR\\xa0<br> - Strong, established business and trade press and analyst relationships\\xa0<br> - Team-oriented attitude and willingness to pitch in wherever needed\\xa0<br> - Desire to keep learning and advance within the company\\xa0<br> - Creativity and integrity\\xa0</p>\\r\\n<p><b>Bonus:</b>\\xa0<br> - Experience working internationally\\xa0<br> - Experience working for an advertising technology company</p>\\r\\n<p></p> <p>Our core values drive our culture. This is what we believe: <a href=\"#URL_975b6fb195fdb1c17219b1b672586545c479eee51ac7085bc5c2ecd85a22beb4#\"><img src=\"#URL_bb11c3e11938d66936d9e23cd512972fba3f1d13b3076834b86efdf65404727d#\"></a></p>\\r\\n<p>Why #URL_ddb080358fa5eecf5a67c649cfb4ffc343c484389f1bbaf2a1cb071e3f2b6e7e#? Watch our culture video to learn more.</p>\\r\\n<ul>\\r\\n<li>MAKE OUR CUSTOMERS SUCCESSFUL Our customers\\' success is ours. We live to solve their problems, improve their futures, and exceed their expectations. When our customers win, we win.</li>\\r\\n<li>SET THE BAR HIGH. We\\'re trying to revolutionize an industry, so we can\\'t be just good—we have to be the best. That means striving for the best team, product, and company on the planet.</li>\\r\\n<li>BE ACCOUNTABLE. We own our work. We keep our promises. And we always follow through. We take responsibility for failures, and humble bows for successes. There\\'s no time for excuses and finger pointing.</li>\\r\\n<li>SHOW INTEGRITY. Forget loopholes, back doors, and shades of gray. We just say it. We are honest and straightforward with everyone. The only way we can bring clarity to a chaotic world is to walk-the-walk ourselves.</li>\\r\\n<li>MAKE EACH OTHER BETTER. Everything we achieve, we achieve together. Nobody is too important to grab a broom.</li>\\r\\n<li>ALWAYS MOVE FORWARD. We see the world as it could be, not just as it is. With our passion for finding new solutions to old problems, we\\'re creating that new world. It\\'s a future worth adapting to.</li>\\r\\n</ul><p>The Benefits <img src=\"http://#URL_ddb080358fa5eecf5a67c649cfb4ffc343c484389f1bbaf2a1cb071e3f2b6e7e#/styles/images/careers/overview2.jpg\"></p>\\r\\n<ul>\\r\\n<li>Generous paid time off to help you maintain a good work-life balance</li>\\r\\n<li>Fully catered lunches available everyday to all employees at the corporate office</li>\\r\\n<li>Offices fully stocked with snacks and refreshments to keep you energized and productive</li>\\r\\n<li>Extensive employee benefits and perks to show how much we value your efforts</li>\\r\\n<li>Fun team events, company events, employee sponsored events, employee recognition awards, and more!</li>\\r\\n</ul><p><br> \\xa0<br>Qualified candidates are encouraged to apply directly to this job posting. \\xa0Direct email and phone calls are not being considered. Thank you for your cooperation. \\xa0Please no recruiters. \\xa0</p>\\r\\n<p></p>\\r\\n<p><br><b>\\xa0 \\xa0 \\xa0 \\xa0 \\xa0 \\xa0 \\xa0 \\xa0 \\xa0 \\xa0 \\xa0 \\xa0 \\xa0 \\xa0 \\xa0 \\xa0 \\xa0 \\xa0 \\xa0 \\xa0 \\xa0 \\xa0 \\xa0 \\xa0 \\xa0 \\xa0 \\xa0 \\xa0 \\xa0 \\xa0 \\xa0 \\xa0 \\xa0 \\xa0\\xa0<img src=\"https://workablehr.s3.amazonaws.com/uploads/account/logo/5233/small_#URL_ddb080358fa5eecf5a67c649cfb4ffc343c484389f1bbaf2a1cb071e3f2b6e7e#_logo_horiz_-_Final.jpg\"></b></p>'"
            ],
            "application/vnd.google.colaboratory.intrinsic+json": {
              "type": "string"
            }
          },
          "metadata": {},
          "execution_count": 58
        }
      ],
      "source": [
        "x_train = junta_colunas_nlp(x_train)\n",
        "x_train.texto[0]"
      ]
    },
    {
      "cell_type": "markdown",
      "metadata": {
        "id": "1F27prrogS1l"
      },
      "source": [
        "### Criando colunas com regex"
      ]
    },
    {
      "cell_type": "markdown",
      "metadata": {
        "id": "FldAZw7igVlj"
      },
      "source": [
        "Criando colunas com a quantidade de numeros de telefones, imagens e links nos textos das vagas"
      ]
    },
    {
      "cell_type": "code",
      "execution_count": 59,
      "metadata": {
        "id": "KvgBSJ1jBMwx"
      },
      "outputs": [],
      "source": [
        "regex_phone = '#PHONE_.*?#'\n",
        "regex_img = '<img src=.*?>'\n",
        "regex_href = \"<a href=.*?<\\/a>\"\n",
        "lista_regex = [regex_href,regex_img,regex_phone]"
      ]
    },
    {
      "cell_type": "code",
      "execution_count": 60,
      "metadata": {
        "id": "a7uE0DCJhdk1"
      },
      "outputs": [],
      "source": [
        "def criar_colunas_regex(data):\n",
        "  for regex,name in zip(lista_regex,['phone','img','href']):\n",
        "    data['quant_'+name] = [len(re.findall(regex,texto)) for texto in data.texto]\n",
        "  return data"
      ]
    },
    {
      "cell_type": "code",
      "execution_count": 61,
      "metadata": {
        "id": "OkQr7KpRguzx"
      },
      "outputs": [],
      "source": [
        "x_train = criar_colunas_regex(x_train)"
      ]
    },
    {
      "cell_type": "code",
      "execution_count": 62,
      "metadata": {
        "colab": {
          "base_uri": "https://localhost:8080/"
        },
        "id": "zDJcYZ_LhPV0",
        "outputId": "5980e318-16e4-429b-cae8-bd1bc983d474"
      },
      "outputs": [
        {
          "output_type": "execute_result",
          "data": {
            "text/plain": [
              "0     9963\n",
              "1     2618\n",
              "2      607\n",
              "3      487\n",
              "4      322\n",
              "5       92\n",
              "6       67\n",
              "8       41\n",
              "7       37\n",
              "9       17\n",
              "11      13\n",
              "16       9\n",
              "10       7\n",
              "12       7\n",
              "17       5\n",
              "13       5\n",
              "18       2\n",
              "14       2\n",
              "55       1\n",
              "15       1\n",
              "23       1\n",
              "Name: quant_phone, dtype: int64"
            ]
          },
          "metadata": {},
          "execution_count": 62
        }
      ],
      "source": [
        "x_train['quant_phone'].value_counts()"
      ]
    },
    {
      "cell_type": "markdown",
      "metadata": {
        "id": "5Nb8WayfnOkP"
      },
      "source": [
        "### Limpando variável texto"
      ]
    },
    {
      "cell_type": "code",
      "execution_count": 63,
      "metadata": {
        "colab": {
          "base_uri": "https://localhost:8080/"
        },
        "id": "P_ntUWQan9sU",
        "outputId": "769facf8-d5a3-4ef8-cbdd-651fefba5d71"
      },
      "outputs": [
        {
          "output_type": "execute_result",
          "data": {
            "text/plain": [
              "['<a href=.*?<\\\\/a>', '<img src=.*?>', '#PHONE_.*?#']"
            ]
          },
          "metadata": {},
          "execution_count": 63
        }
      ],
      "source": [
        "lista_regex"
      ]
    },
    {
      "cell_type": "code",
      "execution_count": 64,
      "metadata": {
        "id": "sDWn7RnXoWEd"
      },
      "outputs": [],
      "source": [
        "regex_sobra_html = '<.*?>'\n",
        "regex_url_extra = '#url_.*?#'\n",
        "regex_phone_extra = '#phone.*?#'\n",
        "lista_regex.extend([regex_sobra_html,regex_url_extra,regex_phone_extra])"
      ]
    },
    {
      "cell_type": "code",
      "execution_count": 65,
      "metadata": {
        "id": "vjUwlXt0n2hz"
      },
      "outputs": [],
      "source": [
        "def limpa_texto(data):\n",
        "  data.texto = data.texto.apply(lambda x: x.lower())\n",
        "  for regex in lista_regex:\n",
        "    data.texto = data.texto.apply(lambda x: re.sub(regex,' ',x))\n",
        "  data.texto = [unicodedata.normalize(\"NFKD\", texto) for texto in data.texto]\n",
        "  data.texto = [texto.replace('\\r', ' ').replace('\\n', ' ') for texto in data.texto]\n",
        "  data.texto = [re.sub(r'   *', ' ', texto) for texto in data.texto]\n",
        "  return data"
      ]
    },
    {
      "cell_type": "code",
      "execution_count": 66,
      "metadata": {
        "id": "mKMaGUmyndBM"
      },
      "outputs": [],
      "source": [
        "x_train = limpa_texto(x_train)"
      ]
    },
    {
      "cell_type": "markdown",
      "metadata": {
        "id": "IjDX5UN7zPya"
      },
      "source": [
        "### Separando duas base: com e sem nlp"
      ]
    },
    {
      "cell_type": "code",
      "execution_count": 67,
      "metadata": {
        "id": "ScBVSMnXzWJs"
      },
      "outputs": [],
      "source": [
        "x_train_sem_nlp = x_train.drop('texto',axis=1).copy()"
      ]
    },
    {
      "cell_type": "code",
      "execution_count": 68,
      "metadata": {
        "id": "0_Wd8ve-zlL6"
      },
      "outputs": [],
      "source": [
        "x_train_com_nlp = x_train.copy()"
      ]
    },
    {
      "cell_type": "markdown",
      "source": [
        "## 2.2 - Variáveis W2V"
      ],
      "metadata": {
        "id": "uFekIpSu7htG"
      }
    },
    {
      "cell_type": "code",
      "execution_count": 69,
      "metadata": {
        "id": "Y_7i2q7bq7O0"
      },
      "outputs": [],
      "source": [
        "nlp = spacy.load(\"en_core_web_sm\")\n",
        "model_w2v = KeyedVectors.load_word2vec_format('/content/drive/MyDrive/scam_recrutamento/GoogleNews-vectors-negative300.bin', binary=True)"
      ]
    },
    {
      "cell_type": "code",
      "execution_count": 70,
      "metadata": {
        "id": "NlxHcAUEx19R"
      },
      "outputs": [],
      "source": [
        "def processo_completo(doc):\n",
        "    tokens_validos = seleciona_tokens_validos(doc)\n",
        "    vetor_resultante = soma_vetores(tokens_validos)\n",
        "    return vetor_resultante\n",
        "\n",
        "def seleciona_tokens_validos(doc):\n",
        "  tokens_validos = [token.lemma_ for token in doc if not(token.is_stop) and token.is_alpha]\n",
        "  return tokens_validos\n",
        "\n",
        "def soma_vetores(tokens):\n",
        "    vetor_resultante = np.zeros(300)\n",
        "    for token in tokens:\n",
        "        try:\n",
        "            vetor_resultante += model_w2v.get_vector(token)\n",
        "        except:\n",
        "            pass\n",
        "    return vetor_resultante"
      ]
    },
    {
      "cell_type": "code",
      "execution_count": 71,
      "metadata": {
        "colab": {
          "base_uri": "https://localhost:8080/"
        },
        "id": "0p0wi3JnyoxR",
        "outputId": "ee6d032f-546e-4063-f6dd-13b88ab1ce20"
      },
      "outputs": [
        {
          "output_type": "stream",
          "name": "stdout",
          "text": [
            "12.56\n"
          ]
        }
      ],
      "source": [
        "inicio = time()\n",
        "docs = nlp.pipe(x_train_com_nlp.texto, n_process=-1)\n",
        "vetores_resultantes = [processo_completo(doc) for doc in docs]\n",
        "duracao = time() - inicio\n",
        "print('{:.2f}'.format(duracao/60))"
      ]
    },
    {
      "cell_type": "code",
      "execution_count": 72,
      "metadata": {
        "id": "2_OUF85d5Ywm"
      },
      "outputs": [],
      "source": [
        "data_vetores = pd.DataFrame(vetores_resultantes)\n",
        "x_train_com_nlp.drop('texto',axis=1,inplace=True)\n",
        "x_train_com_nlp = pd.concat([x_train_com_nlp,data_vetores],axis=1)"
      ]
    },
    {
      "cell_type": "markdown",
      "metadata": {
        "id": "SWxUBIMd2iWR"
      },
      "source": [
        "## 2.3 - Pré-processamento da base de teste"
      ]
    },
    {
      "cell_type": "code",
      "execution_count": 73,
      "metadata": {
        "id": "ClahcuEM2l5e"
      },
      "outputs": [],
      "source": [
        "def prepara_data(data):\n",
        "  data_temp = data.copy()\n",
        "  data_temp = pp_nlp_has(data_temp)\n",
        "  data_temp = preencher_nulos(data_temp)\n",
        "  data_temp['salary_range'] = data_temp.salary_range.apply(pp_salary_range)\n",
        "  data_temp = pp_var_binarias(data_temp)\n",
        "  data_temp = pp_paises(data_temp)\n",
        "  data_temp = diminui_cat(data_temp)\n",
        "  data_temp = onehot_cat(data_temp)\n",
        "  data_temp = junta_colunas_nlp(data_temp)\n",
        "  data_temp = criar_colunas_regex(data_temp)\n",
        "  data_temp = limpa_texto(data_temp)\n",
        "  data_temp_sem_nlp = data_temp.drop('texto',axis=1).copy()\n",
        "  data_temp_com_nlp = data_temp.copy()\n",
        "  docs = nlp.pipe(data_temp_com_nlp.texto, n_process=-1)\n",
        "  vetores_resultantes = [processo_completo(doc) for doc in docs]\n",
        "  data_vetores_temp = pd.DataFrame(vetores_resultantes)\n",
        "  data_temp_com_nlp.drop('texto',axis=1,inplace=True)\n",
        "  data_temp_com_nlp = pd.concat([data_temp_com_nlp,data_vetores_temp],axis=1)\n",
        "  return data_temp_sem_nlp,data_temp_com_nlp"
      ]
    },
    {
      "cell_type": "code",
      "execution_count": 74,
      "metadata": {
        "id": "93fveYAJRNLY"
      },
      "outputs": [],
      "source": [
        "x_test_sem_nlp,x_test_com_nlp = prepara_data(x_test)"
      ]
    },
    {
      "cell_type": "markdown",
      "metadata": {
        "id": "q1BS4FqY0sqC"
      },
      "source": [
        "# 3 - Modelos"
      ]
    },
    {
      "cell_type": "markdown",
      "metadata": {
        "id": "RRoYY5NlTjdr"
      },
      "source": [
        "### Funçao de treinamento"
      ]
    },
    {
      "cell_type": "code",
      "execution_count": 75,
      "metadata": {
        "id": "lAojNw5lSQ5l"
      },
      "outputs": [],
      "source": [
        "def treinar(model,x_train,y_train,x_test,y_test):\n",
        "  model.fit(x_train,y_train)\n",
        "  y_pred = model.predict(x_test)\n",
        "  print(\"Score de treino: {:.2f}\\nScore de teste: {:.2f}\".format(model.score(x_train,y_train)*100,model.score(x_test,y_test)*100))\n",
        "  return model"
      ]
    },
    {
      "cell_type": "markdown",
      "metadata": {
        "id": "15m8UxOUMp92"
      },
      "source": [
        "## 3.1 - Modelo 1 - Random Forest"
      ]
    },
    {
      "cell_type": "markdown",
      "metadata": {
        "id": "toh64M_lxgnh"
      },
      "source": [
        "### Random Forest com parametros padrão"
      ]
    },
    {
      "cell_type": "markdown",
      "metadata": {
        "id": "cySmthTUSNTq"
      },
      "source": [
        "RF sem NLP"
      ]
    },
    {
      "cell_type": "code",
      "execution_count": null,
      "metadata": {
        "id": "I5sUIfmjRSLm"
      },
      "outputs": [],
      "source": [
        "rf = RandomForestClassifier(random_state=50)"
      ]
    },
    {
      "cell_type": "code",
      "execution_count": null,
      "metadata": {
        "colab": {
          "base_uri": "https://localhost:8080/"
        },
        "id": "8APjaZIc6VKj",
        "outputId": "49c49ae7-3f25-4d0f-827b-02eaff60b060"
      },
      "outputs": [
        {
          "output_type": "stream",
          "name": "stdout",
          "text": [
            "Score de treino: 99.43\n",
            "Score de teste: 98.15\n"
          ]
        }
      ],
      "source": [
        "forest_sem_nlp = treinar(rf,x_train_sem_nlp,y_train,x_test_sem_nlp,y_test)"
      ]
    },
    {
      "cell_type": "markdown",
      "metadata": {
        "id": "NwrTyvzlXD0I"
      },
      "source": [
        "RF com NLP"
      ]
    },
    {
      "cell_type": "code",
      "execution_count": null,
      "metadata": {
        "colab": {
          "base_uri": "https://localhost:8080/"
        },
        "id": "GG6Dmk9yXFlu",
        "outputId": "429a2da3-7847-45fd-8d65-8f384e28efc1"
      },
      "outputs": [
        {
          "output_type": "stream",
          "name": "stdout",
          "text": [
            "Score de treino: 100.00\n",
            "Score de teste: 96.92\n"
          ]
        }
      ],
      "source": [
        "forest_com_nlp = treinar(rf,x_train_com_nlp,y_train,x_test_com_nlp,y_test)"
      ]
    },
    {
      "cell_type": "markdown",
      "metadata": {
        "id": "talgy4VIxdbM"
      },
      "source": [
        "### Otimizando RF com GridSearch"
      ]
    },
    {
      "cell_type": "code",
      "execution_count": null,
      "metadata": {
        "id": "iYZxYFtICFOG"
      },
      "outputs": [],
      "source": [
        "params = {'n_estimators':[20,50,100,200],\n",
        "          'criterion':['gini','entropy'],\n",
        "          'max_features':['sqrt','log2'],\n",
        "          'max_depth':[None,10,50],\n",
        "          'min_samples_leaf': [1, 2, 4],\n",
        "          'min_samples_split': [2, 5, 10]\n",
        "          }"
      ]
    },
    {
      "cell_type": "code",
      "execution_count": null,
      "metadata": {
        "colab": {
          "base_uri": "https://localhost:8080/"
        },
        "id": "oUb2sqg72ScD",
        "outputId": "f2e879bf-2c29-4600-ea35-3753c93373f4"
      },
      "outputs": [
        {
          "name": "stdout",
          "output_type": "stream",
          "text": [
            "15.272969007492065\n"
          ]
        }
      ],
      "source": [
        "a = time()\n",
        "CV_sem_nlp = GridSearchCV(estimator=rf, param_grid=params, cv= 5,n_jobs=-1)\n",
        "CV_sem_nlp.fit(x_train_sem_nlp, y_train)\n",
        "tempo = time() - a\n",
        "print(tempo/60)"
      ]
    },
    {
      "cell_type": "code",
      "execution_count": null,
      "metadata": {
        "colab": {
          "base_uri": "https://localhost:8080/"
        },
        "id": "n7fGHDsK4YIp",
        "outputId": "855b6e5d-d7cd-48dc-e67c-11dfde605c8c"
      },
      "outputs": [
        {
          "data": {
            "text/plain": [
              "{'criterion': 'entropy',\n",
              " 'max_depth': None,\n",
              " 'max_features': 'sqrt',\n",
              " 'min_samples_leaf': 1,\n",
              " 'min_samples_split': 2,\n",
              " 'n_estimators': 100}"
            ]
          },
          "execution_count": 162,
          "metadata": {},
          "output_type": "execute_result"
        }
      ],
      "source": [
        "CV_sem_nlp.best_params_"
      ]
    },
    {
      "cell_type": "code",
      "execution_count": null,
      "metadata": {
        "colab": {
          "base_uri": "https://localhost:8080/"
        },
        "id": "M92948cI2-gn",
        "outputId": "14395e4b-7f89-4ec5-d253-529d84e49732"
      },
      "outputs": [
        {
          "output_type": "stream",
          "name": "stdout",
          "text": [
            "Score de treino: 99.43\n",
            "Score de teste: 98.07\n"
          ]
        }
      ],
      "source": [
        "forest_sem_nlp_gs = RandomForestClassifier(random_state=50,criterion='entropy')\n",
        "forest_sem_nlp_gs = treinar(forest_sem_nlp_gs,x_train_sem_nlp,y_train,x_test_sem_nlp,y_test)"
      ]
    },
    {
      "cell_type": "code",
      "execution_count": null,
      "metadata": {
        "colab": {
          "base_uri": "https://localhost:8080/"
        },
        "id": "rYkuxmfc2udy",
        "outputId": "e81c900b-8cfb-45c3-a9b7-dfaa6bbefb5b"
      },
      "outputs": [
        {
          "name": "stderr",
          "output_type": "stream",
          "text": [
            "/usr/local/lib/python3.7/dist-packages/sklearn/utils/validation.py:1692: FutureWarning: Feature names only support names that are all strings. Got feature names with dtypes: ['int', 'str']. An error will be raised in 1.2.\n",
            "  FutureWarning,\n"
          ]
        },
        {
          "name": "stdout",
          "output_type": "stream",
          "text": [
            "215.56619579394658\n"
          ]
        }
      ],
      "source": [
        "a = time()\n",
        "CV_com_nlp = GridSearchCV(estimator=rf, param_grid=params, cv= 5,n_jobs=-1)\n",
        "CV_com_nlp.fit(x_train_com_nlp, y_train)\n",
        "tempo = time() - a\n",
        "print(tempo/60)"
      ]
    },
    {
      "cell_type": "code",
      "execution_count": null,
      "metadata": {
        "colab": {
          "base_uri": "https://localhost:8080/"
        },
        "id": "F0N1ALwX6um3",
        "outputId": "fff02def-b7e3-49cd-f03f-302ee4ed73e9"
      },
      "outputs": [
        {
          "data": {
            "text/plain": [
              "{'criterion': 'gini',\n",
              " 'max_depth': None,\n",
              " 'max_features': 'sqrt',\n",
              " 'min_samples_leaf': 1,\n",
              " 'min_samples_split': 2,\n",
              " 'n_estimators': 100}"
            ]
          },
          "execution_count": 167,
          "metadata": {},
          "output_type": "execute_result"
        }
      ],
      "source": [
        "CV_com_nlp.best_params_"
      ]
    },
    {
      "cell_type": "markdown",
      "metadata": {
        "id": "sgZzLROpTGnR"
      },
      "source": [
        "### Melhores modelos RF"
      ]
    },
    {
      "cell_type": "markdown",
      "source": [
        "Sem NLP"
      ],
      "metadata": {
        "id": "L0WXNCRfDpAz"
      }
    },
    {
      "cell_type": "code",
      "source": [
        "rf_sem_nlp_melhor = RandomForestClassifier(random_state=50)\n",
        "rf_sem_nlp_melhor = treinar(rf_sem_nlp_melhor,x_train_sem_nlp,y_train,x_test_sem_nlp,y_test)"
      ],
      "metadata": {
        "colab": {
          "base_uri": "https://localhost:8080/"
        },
        "id": "UNal8Mo4DFyK",
        "outputId": "aa598d31-9893-4ae5-8524-3f12c4858f36"
      },
      "execution_count": 76,
      "outputs": [
        {
          "output_type": "stream",
          "name": "stdout",
          "text": [
            "Score de treino: 99.43\n",
            "Score de teste: 98.15\n"
          ]
        }
      ]
    },
    {
      "cell_type": "markdown",
      "source": [
        "Com NLP"
      ],
      "metadata": {
        "id": "jdS72dXlDp-W"
      }
    },
    {
      "cell_type": "code",
      "source": [
        "rf_com_nlp_melhor = RandomForestClassifier(random_state=50)\n",
        "rf_com_nlp_melhor = treinar(rf_com_nlp_melhor,x_train_com_nlp,y_train,x_test_com_nlp,y_test)"
      ],
      "metadata": {
        "colab": {
          "base_uri": "https://localhost:8080/"
        },
        "id": "C4Jr9dIZDQ8_",
        "outputId": "cd7c44ed-838c-4018-8cb0-b5445ddb9200"
      },
      "execution_count": 77,
      "outputs": [
        {
          "output_type": "stream",
          "name": "stdout",
          "text": [
            "Score de treino: 100.00\n",
            "Score de teste: 96.92\n"
          ]
        }
      ]
    },
    {
      "cell_type": "markdown",
      "metadata": {
        "id": "o8eTnV45P-xY"
      },
      "source": [
        "## 3.2 - Modelo 2 - MLP"
      ]
    },
    {
      "cell_type": "markdown",
      "metadata": {
        "id": "5nsQH8awRdDW"
      },
      "source": [
        "### MLP com parametros padrão"
      ]
    },
    {
      "cell_type": "markdown",
      "metadata": {
        "id": "-Xe17ILWR86q"
      },
      "source": [
        "MLP sem NLP"
      ]
    },
    {
      "cell_type": "code",
      "execution_count": null,
      "metadata": {
        "colab": {
          "base_uri": "https://localhost:8080/"
        },
        "id": "QFWaIKopRkoq",
        "outputId": "20c9492f-8909-4335-bcda-8c5f63beb525"
      },
      "outputs": [
        {
          "output_type": "stream",
          "name": "stdout",
          "text": [
            "Score de treino: 99.38\n",
            "Score de teste: 97.82\n"
          ]
        }
      ],
      "source": [
        "mlp_sem_nlp = MLPClassifier(random_state=50)\n",
        "mlp_sem_nlp = treinar(mlp_sem_nlp,x_train_sem_nlp,y_train,x_test_sem_nlp,y_test)"
      ]
    },
    {
      "cell_type": "markdown",
      "metadata": {
        "id": "oWhzz7bkSCSf"
      },
      "source": [
        "MLP com NLP"
      ]
    },
    {
      "cell_type": "code",
      "execution_count": null,
      "metadata": {
        "colab": {
          "base_uri": "https://localhost:8080/"
        },
        "id": "7NP_Ei_nSD26",
        "outputId": "82d96cde-a696-4b23-d535-242e84d0d669"
      },
      "outputs": [
        {
          "output_type": "stream",
          "name": "stdout",
          "text": [
            "Score de treino: 99.99\n",
            "Score de teste: 98.10\n"
          ]
        }
      ],
      "source": [
        "mlp_com_nlp = MLPClassifier(random_state=50)\n",
        "mlp_com_nlp = treinar(mlp_com_nlp,x_train_com_nlp,y_train,x_test_com_nlp,y_test)"
      ]
    },
    {
      "cell_type": "markdown",
      "metadata": {
        "id": "yL_liAmVRiDr"
      },
      "source": [
        "### MLP Otimização"
      ]
    },
    {
      "cell_type": "code",
      "execution_count": null,
      "metadata": {
        "id": "_fzb337KSj7t"
      },
      "outputs": [],
      "source": [
        "params_mlp = {'hidden_layer_sizes':[(100,),(200,),(500,)],\n",
        "          'activation':['relu','tanh'],\n",
        "          'alpha':[0.0001,0.05],\n",
        "          'max_iter':[500]\n",
        "          }"
      ]
    },
    {
      "cell_type": "code",
      "source": [
        "mlp = MLPClassifier(random_state=50)"
      ],
      "metadata": {
        "id": "jQQrVLdEIsL2"
      },
      "execution_count": null,
      "outputs": []
    },
    {
      "cell_type": "code",
      "execution_count": null,
      "metadata": {
        "id": "yt_TA0kpSlpV",
        "colab": {
          "base_uri": "https://localhost:8080/"
        },
        "outputId": "62e8b685-6a48-4724-9fe9-9971cfcdb422"
      },
      "outputs": [
        {
          "output_type": "stream",
          "name": "stdout",
          "text": [
            "35.39737801949183\n"
          ]
        }
      ],
      "source": [
        "a = time()\n",
        "mlp_gs_sem_nlp = GridSearchCV(estimator=mlp, param_grid=params_mlp, cv= 5,n_jobs=-1)\n",
        "mlp_gs_sem_nlp.fit(x_train_sem_nlp, y_train)\n",
        "tempo = time() - a\n",
        "print(tempo/60)"
      ]
    },
    {
      "cell_type": "code",
      "source": [
        "mlp_gs_sem_nlp.best_params_"
      ],
      "metadata": {
        "colab": {
          "base_uri": "https://localhost:8080/"
        },
        "id": "h_ceVdnPb8RU",
        "outputId": "61e0fe7a-2936-420c-8f81-d1d55956b876"
      },
      "execution_count": null,
      "outputs": [
        {
          "output_type": "execute_result",
          "data": {
            "text/plain": [
              "{'activation': 'relu',\n",
              " 'alpha': 0.05,\n",
              " 'hidden_layer_sizes': (100,),\n",
              " 'max_iter': 500}"
            ]
          },
          "metadata": {},
          "execution_count": 159
        }
      ]
    },
    {
      "cell_type": "code",
      "source": [
        "mlp_sem_nlp_bp = MLPClassifier(random_state=50,alpha=0.05,max_iter=500)\n",
        "mlp_sem_nlp_bp = treinar(mlp_sem_nlp_bp,x_train_sem_nlp,y_train,x_test_sem_nlp,y_test)"
      ],
      "metadata": {
        "colab": {
          "base_uri": "https://localhost:8080/"
        },
        "id": "JTiFRONPcFho",
        "outputId": "fef7f886-50c9-415d-e75e-6994faf4400c"
      },
      "execution_count": null,
      "outputs": [
        {
          "output_type": "stream",
          "name": "stdout",
          "text": [
            "Score de treino: 99.03\n",
            "Score de teste: 98.13\n"
          ]
        }
      ]
    },
    {
      "cell_type": "code",
      "source": [
        "a = time()\n",
        "mlp_gs_com_nlp = GridSearchCV(estimator=mlp, param_grid=params_mlp, cv= 5,n_jobs=-1)\n",
        "mlp_gs_com_nlp.fit(x_train_com_nlp, y_train)\n",
        "tempo = time() - a\n",
        "print(tempo/60)"
      ],
      "metadata": {
        "colab": {
          "base_uri": "https://localhost:8080/"
        },
        "id": "gEvawmiWI5S3",
        "outputId": "de522647-2da5-4d53-be66-36acfcd4bc6d"
      },
      "execution_count": null,
      "outputs": [
        {
          "output_type": "stream",
          "name": "stdout",
          "text": [
            "30.414262855052947\n"
          ]
        }
      ]
    },
    {
      "cell_type": "code",
      "source": [
        "mlp_gs_com_nlp.best_params_"
      ],
      "metadata": {
        "colab": {
          "base_uri": "https://localhost:8080/"
        },
        "id": "QdmX3_r_cAwn",
        "outputId": "3dcdcf56-e35b-4855-c781-6999271ce3dc"
      },
      "execution_count": null,
      "outputs": [
        {
          "output_type": "execute_result",
          "data": {
            "text/plain": [
              "{'activation': 'relu',\n",
              " 'alpha': 0.0001,\n",
              " 'hidden_layer_sizes': (200,),\n",
              " 'max_iter': 500}"
            ]
          },
          "metadata": {},
          "execution_count": 160
        }
      ]
    },
    {
      "cell_type": "code",
      "source": [
        "mlp_com_nlp_bp = MLPClassifier(random_state=50,hidden_layer_sizes=(200,),max_iter=50)\n",
        "mlp_com_nlp_bp = treinar(mlp_com_nlp_bp,x_train_com_nlp,y_train,x_test_com_nlp,y_test)"
      ],
      "metadata": {
        "colab": {
          "base_uri": "https://localhost:8080/"
        },
        "id": "B2lzTsswccjj",
        "outputId": "a4c83d0e-06c9-4d6b-f0b9-fddbf8accb95"
      },
      "execution_count": null,
      "outputs": [
        {
          "output_type": "stream",
          "name": "stdout",
          "text": [
            "Score de treino: 99.90\n",
            "Score de teste: 97.96\n"
          ]
        }
      ]
    },
    {
      "cell_type": "markdown",
      "source": [
        "### Melhores modelos"
      ],
      "metadata": {
        "id": "GuLw5udpcyjz"
      }
    },
    {
      "cell_type": "markdown",
      "source": [
        "Sem NLP"
      ],
      "metadata": {
        "id": "Ros5583Pc9Rm"
      }
    },
    {
      "cell_type": "code",
      "source": [
        "mlp_sem_nlp_melhor = MLPClassifier(alpha=0.05, max_iter=500, random_state=50)\n",
        "mlp_sem_nlp_melhor = treinar(mlp_sem_nlp_melhor,x_train_sem_nlp,y_train,x_test_sem_nlp,y_test)"
      ],
      "metadata": {
        "colab": {
          "base_uri": "https://localhost:8080/"
        },
        "id": "h3kCk6gODrsg",
        "outputId": "c24dbe20-8501-4bb4-9048-47b3e792a2ec"
      },
      "execution_count": 78,
      "outputs": [
        {
          "output_type": "stream",
          "name": "stdout",
          "text": [
            "Score de treino: 99.03\n",
            "Score de teste: 98.13\n"
          ]
        }
      ]
    },
    {
      "cell_type": "markdown",
      "source": [
        "Com NLP"
      ],
      "metadata": {
        "id": "MEy35279c5XV"
      }
    },
    {
      "cell_type": "code",
      "source": [
        "mlp_com_nlp_melhor = MLPClassifier(random_state=50)\n",
        "mlp_com_nlp_melhor = treinar(mlp_com_nlp_melhor,x_train_com_nlp,y_train,x_test_com_nlp,y_test)"
      ],
      "metadata": {
        "colab": {
          "base_uri": "https://localhost:8080/"
        },
        "id": "jkpQ51Vec1nd",
        "outputId": "7f876c0d-8c06-49ef-cca5-278eaa3231ef"
      },
      "execution_count": 79,
      "outputs": [
        {
          "output_type": "stream",
          "name": "stdout",
          "text": [
            "Score de treino: 99.99\n",
            "Score de teste: 98.10\n"
          ]
        }
      ]
    },
    {
      "cell_type": "markdown",
      "metadata": {
        "id": "TTU7C73HQBo3"
      },
      "source": [
        "## 3.3 - Modelo 3 - XGBoost"
      ]
    },
    {
      "cell_type": "markdown",
      "metadata": {
        "id": "INt5afKtjTJZ"
      },
      "source": [
        "### XGBoost com parametros padrao"
      ]
    },
    {
      "cell_type": "markdown",
      "metadata": {
        "id": "Md-P8FFom3S9"
      },
      "source": [
        "Sem NLP"
      ]
    },
    {
      "cell_type": "code",
      "execution_count": null,
      "metadata": {
        "colab": {
          "base_uri": "https://localhost:8080/"
        },
        "id": "DbA5AClZjYSg",
        "outputId": "9f8d9640-9373-4001-edeb-ffc8c6a3ff9f"
      },
      "outputs": [
        {
          "output_type": "stream",
          "name": "stdout",
          "text": [
            "Score de treino: 96.80\n",
            "Score de teste: 96.45\n"
          ]
        }
      ],
      "source": [
        "gb_sem_nlp = XGBClassifier(random_state=50)\n",
        "gb_sem_nlp = treinar(gb_sem_nlp,x_train_sem_nlp,y_train,x_test_sem_nlp,y_test)"
      ]
    },
    {
      "cell_type": "markdown",
      "metadata": {
        "id": "xe0kcbxRm4JX"
      },
      "source": [
        "Com NLP"
      ]
    },
    {
      "cell_type": "code",
      "execution_count": null,
      "metadata": {
        "colab": {
          "base_uri": "https://localhost:8080/"
        },
        "id": "6FTbxXZ2lslU",
        "outputId": "d40e5990-c8af-475f-eccd-176d884e3d4c"
      },
      "outputs": [
        {
          "output_type": "stream",
          "name": "stdout",
          "text": [
            "Score de treino: 98.32\n",
            "Score de teste: 97.09\n"
          ]
        }
      ],
      "source": [
        "gb_com_nlp = XGBClassifier(random_state=50)\n",
        "gb_com_nlp = treinar(gb_com_nlp,x_train_com_nlp,y_train,x_test_com_nlp,y_test)"
      ]
    },
    {
      "cell_type": "markdown",
      "metadata": {
        "id": "oTGqIy5Vnw05"
      },
      "source": [
        "### RandomizedSearchCV"
      ]
    },
    {
      "cell_type": "code",
      "source": [
        "params = {\n",
        "    \"n_estimators\": [100,200],\n",
        "    \"max_depth\": [6, 15, 30],\n",
        "    \"learning_rate\": [0.05, 0.1, 0.2],\n",
        "    \"gamma\": [0, 0.5, 1.0]\n",
        "}"
      ],
      "metadata": {
        "id": "GwHEO3s87hCv"
      },
      "execution_count": null,
      "outputs": []
    },
    {
      "cell_type": "markdown",
      "metadata": {
        "id": "4woqGBM8uBPB"
      },
      "source": [
        "Sem NLP"
      ]
    },
    {
      "cell_type": "code",
      "execution_count": null,
      "metadata": {
        "colab": {
          "base_uri": "https://localhost:8080/"
        },
        "id": "ba5zyBfDnwbE",
        "outputId": "2952cdde-5f1e-48a4-dc72-9620a94049f1"
      },
      "outputs": [
        {
          "name": "stdout",
          "output_type": "stream",
          "text": [
            "Fitting 4 folds for each of 25 candidates, totalling 100 fits\n"
          ]
        },
        {
          "data": {
            "text/plain": [
              "RandomizedSearchCV(cv=4, estimator=XGBClassifier(random_state=50), n_iter=25,\n",
              "                   param_distributions={'gamma': [0, 0.5, 1.0],\n",
              "                                        'learning_rate': [0.05, 0.1, 0.2],\n",
              "                                        'max_depth': [6, 15, 30],\n",
              "                                        'n_estimators': [50, 100, 200]},\n",
              "                   scoring='accuracy', verbose=True)"
            ]
          },
          "execution_count": 113,
          "metadata": {},
          "output_type": "execute_result"
        }
      ],
      "source": [
        "gb = XGBClassifier(random_state=50)\n",
        "\n",
        "rs = RandomizedSearchCV(param_distributions = params,\n",
        "                                    estimator = gb,\n",
        "                                    scoring = \"accuracy\",\n",
        "                                    n_iter = 25, cv = 4, verbose = True)\n",
        "rs.fit(x_train_sem_nlp,y_train)"
      ]
    },
    {
      "cell_type": "code",
      "execution_count": null,
      "metadata": {
        "colab": {
          "base_uri": "https://localhost:8080/"
        },
        "id": "_lOMbbWBphIq",
        "outputId": "7dcbcbf8-b2de-4c9b-86e9-ac4fe837922b"
      },
      "outputs": [
        {
          "data": {
            "text/plain": [
              "{'n_estimators': 200, 'max_depth': 30, 'learning_rate': 0.1, 'gamma': 1.0}"
            ]
          },
          "execution_count": 114,
          "metadata": {},
          "output_type": "execute_result"
        }
      ],
      "source": [
        "rs.best_params_"
      ]
    },
    {
      "cell_type": "code",
      "execution_count": null,
      "metadata": {
        "colab": {
          "base_uri": "https://localhost:8080/"
        },
        "id": "WYhNYRx-t4bS",
        "outputId": "fa46b0c3-d06b-4a27-8c93-7342a44f823f"
      },
      "outputs": [
        {
          "name": "stdout",
          "output_type": "stream",
          "text": [
            "Score de treino: 99.06\n",
            "Score de teste: 98.01\n"
          ]
        }
      ],
      "source": [
        "gb = XGBClassifier(random_state=50,max_depth=30,learning_rate=0.1,gamma=1.0)\n",
        "gb = treinar(gb,x_train_sem_nlp,y_train,x_test_sem_nlp,y_test)"
      ]
    },
    {
      "cell_type": "markdown",
      "metadata": {
        "id": "31GQMzAEuCUx"
      },
      "source": [
        "Com NLP"
      ]
    },
    {
      "cell_type": "code",
      "execution_count": null,
      "metadata": {
        "id": "Av89L9x2uEgY"
      },
      "outputs": [],
      "source": [
        "gb = XGBClassifier(random_state=50)\n",
        "\n",
        "rs = RandomizedSearchCV(param_distributions = params,\n",
        "                                    estimator = gb,\n",
        "                                    scoring = \"accuracy\",\n",
        "                                    n_iter = 25, cv = 4, verbose = True)\n",
        "rs.fit(x_train_com_nlp,y_train)"
      ]
    },
    {
      "cell_type": "code",
      "execution_count": null,
      "metadata": {
        "colab": {
          "background_save": true
        },
        "id": "Rk3hlPGAuFPg",
        "outputId": "d21699dd-6931-4d0a-e3e7-369b02d5924a"
      },
      "outputs": [
        {
          "data": {
            "text/plain": [
              "{'n_estimators': 200, 'max_depth': 6, 'learning_rate': 0.2, 'gamma': 1.0}"
            ]
          },
          "execution_count": 117,
          "metadata": {},
          "output_type": "execute_result"
        }
      ],
      "source": [
        "rs.best_params_"
      ]
    },
    {
      "cell_type": "code",
      "execution_count": null,
      "metadata": {
        "colab": {
          "base_uri": "https://localhost:8080/"
        },
        "id": "jlzCI_x2uHdh",
        "outputId": "16455d94-1650-489c-e3e4-e550364e286a"
      },
      "outputs": [
        {
          "output_type": "stream",
          "name": "stdout",
          "text": [
            "Score de treino: 100.00\n",
            "Score de teste: 98.10\n"
          ]
        }
      ],
      "source": [
        "gb = XGBClassifier(random_state=50,n_estimators=200,max_depth=6,learning_rate=0.2,gamma=1.0)\n",
        "gb = treinar(gb,x_train_com_nlp,y_train,x_test_com_nlp,y_test)"
      ]
    },
    {
      "cell_type": "markdown",
      "source": [
        "### Melhores algoritmos XGB"
      ],
      "metadata": {
        "id": "PrvPeWKI8A5v"
      }
    },
    {
      "cell_type": "markdown",
      "source": [
        "Sem NLP"
      ],
      "metadata": {
        "id": "WSPF5zqC8FlX"
      }
    },
    {
      "cell_type": "code",
      "source": [
        "xgb_sem_nlp_melhor = XGBClassifier(random_state=50,max_depth=30,learning_rate=0.1,gamma=1.0)\n",
        "xgb_sem_nlp_melhor = treinar(xgb_sem_nlp_melhor,x_train_sem_nlp,y_train,x_test_sem_nlp,y_test)"
      ],
      "metadata": {
        "colab": {
          "base_uri": "https://localhost:8080/"
        },
        "id": "D2Gfj1798OHr",
        "outputId": "6803f28a-d921-4642-c655-9865f1d6597c"
      },
      "execution_count": 80,
      "outputs": [
        {
          "output_type": "stream",
          "name": "stdout",
          "text": [
            "Score de treino: 99.06\n",
            "Score de teste: 98.01\n"
          ]
        }
      ]
    },
    {
      "cell_type": "markdown",
      "source": [
        "Com NLP"
      ],
      "metadata": {
        "id": "pLXF18ha8Gub"
      }
    },
    {
      "cell_type": "code",
      "source": [
        "xgb_com_nlp_melhor = XGBClassifier(random_state=50,n_estimators=200,max_depth=6,learning_rate=0.2,gamma=1.0)\n",
        "xgb_com_nlp_melhor = treinar(xgb_com_nlp_melhor,x_train_com_nlp,y_train,x_test_com_nlp,y_test)"
      ],
      "metadata": {
        "colab": {
          "base_uri": "https://localhost:8080/"
        },
        "id": "8UGTDoY98HeI",
        "outputId": "27bd9032-b90a-4043-c26f-903f44c6c5d5"
      },
      "execution_count": 81,
      "outputs": [
        {
          "output_type": "stream",
          "name": "stdout",
          "text": [
            "Score de treino: 100.00\n",
            "Score de teste: 98.10\n"
          ]
        }
      ]
    },
    {
      "cell_type": "markdown",
      "source": [
        "## 3.4 - Ensembles"
      ],
      "metadata": {
        "id": "6nxStvoMErD4"
      }
    },
    {
      "cell_type": "code",
      "source": [
        "modelos_sem_nlp = [\n",
        "    ('rf',rf_sem_nlp_melhor),\n",
        "    ('mlp',mlp_sem_nlp_melhor),\n",
        "    ('xgb',xgb_sem_nlp_melhor)\n",
        "]\n",
        "\n",
        "modelos_com_nlp = [\n",
        "    ('rf',rf_com_nlp_melhor),\n",
        "    ('mlp',mlp_com_nlp_melhor),\n",
        "    ('xgb',xgb_com_nlp_melhor)\n",
        "]"
      ],
      "metadata": {
        "id": "yo00oPXVFDO0"
      },
      "execution_count": 82,
      "outputs": []
    },
    {
      "cell_type": "markdown",
      "source": [
        "### Hard e Soft Voting"
      ],
      "metadata": {
        "id": "5_aFW1HGEtb1"
      }
    },
    {
      "cell_type": "markdown",
      "source": [
        "Sem NLP"
      ],
      "metadata": {
        "id": "sDOa9bAVGvZl"
      }
    },
    {
      "cell_type": "code",
      "source": [
        "ensemble_hard_sem_nlp = VotingClassifier(modelos_sem_nlp, voting = \"hard\")\n",
        "ensemble_soft_sem_nlp = VotingClassifier(modelos_sem_nlp, voting = \"soft\")\n",
        "\n",
        "ensemble_hard_sem_nlp.fit(x_train_sem_nlp, y_train)\n",
        "ensemble_soft_sem_nlp.fit(x_train_sem_nlp, y_train)\n",
        "\n",
        "print(\"Hard Voting: {}\".format(round(accuracy_score(y_test,ensemble_hard_sem_nlp.predict(x_test_sem_nlp))*100, 2)))\n",
        "print(\"Soft Voting: {}\".format(round(accuracy_score(y_test,ensemble_soft_sem_nlp.predict(x_test_sem_nlp))*100, 2)))"
      ],
      "metadata": {
        "colab": {
          "base_uri": "https://localhost:8080/"
        },
        "id": "KkogXkulFCWk",
        "outputId": "37b9693c-1f99-4c19-a01a-aa8ff188928d"
      },
      "execution_count": 83,
      "outputs": [
        {
          "output_type": "stream",
          "name": "stdout",
          "text": [
            "Hard Voting: 98.24\n",
            "Soft Voting: 98.18\n"
          ]
        }
      ]
    },
    {
      "cell_type": "markdown",
      "source": [
        "Com NLP"
      ],
      "metadata": {
        "id": "bAOBAFO8Gw8t"
      }
    },
    {
      "cell_type": "code",
      "source": [
        "ensemble_hard_com_nlp = VotingClassifier(modelos_com_nlp, voting = \"hard\")\n",
        "ensemble_soft_com_nlp = VotingClassifier(modelos_com_nlp, voting = \"soft\")\n",
        "\n",
        "ensemble_hard_com_nlp.fit(x_train_com_nlp, y_train)\n",
        "ensemble_soft_com_nlp.fit(x_train_com_nlp, y_train)\n",
        "\n",
        "print(\"Hard Voting: {}\".format(round(accuracy_score(y_test,ensemble_hard_com_nlp.predict(x_test_com_nlp))*100, 2)))\n",
        "print(\"Soft Voting: {}\".format(round(accuracy_score(y_test,ensemble_soft_com_nlp.predict(x_test_com_nlp))*100, 2)))"
      ],
      "metadata": {
        "colab": {
          "base_uri": "https://localhost:8080/"
        },
        "id": "wmjsPuqSGwbr",
        "outputId": "62780323-a3c0-4d7e-e7bd-4e291c4d391f"
      },
      "execution_count": 84,
      "outputs": [
        {
          "output_type": "stream",
          "name": "stdout",
          "text": [
            "Hard Voting: 97.85\n",
            "Soft Voting: 98.01\n"
          ]
        }
      ]
    },
    {
      "cell_type": "markdown",
      "source": [
        "### Stacking"
      ],
      "metadata": {
        "id": "rudUBqJNHFPF"
      }
    },
    {
      "cell_type": "markdown",
      "source": [
        "Sem NLP"
      ],
      "metadata": {
        "id": "-ADWI0MaHbWS"
      }
    },
    {
      "cell_type": "code",
      "source": [
        "ensemble_stacking_sem_nlp = StackingClassifier(modelos_sem_nlp, LogisticRegression(random_state = 50), passthrough = False)\n",
        "ensemble_stacking_pt_sem_nlp = StackingClassifier(modelos_sem_nlp, LogisticRegression(random_state = 50), passthrough = True)\n",
        "\n",
        "ensemble_stacking_sem_nlp.fit(x_train_sem_nlp, y_train)\n",
        "ensemble_stacking_pt_sem_nlp.fit(x_train_sem_nlp, y_train)\n",
        "\n",
        "print(\"Hard Voting: {}\".format(round(accuracy_score(y_test,ensemble_stacking_sem_nlp.predict(x_test_sem_nlp))*100, 2)))\n",
        "print(\"Soft Voting: {}\".format(round(accuracy_score(y_test,ensemble_stacking_pt_sem_nlp.predict(x_test_sem_nlp))*100, 2)))"
      ],
      "metadata": {
        "colab": {
          "base_uri": "https://localhost:8080/"
        },
        "id": "Fpsk9TeRHat7",
        "outputId": "cd3b1a07-df78-44ee-a97b-66773ac25bed"
      },
      "execution_count": 85,
      "outputs": [
        {
          "output_type": "stream",
          "name": "stdout",
          "text": [
            "Hard Voting: 98.29\n",
            "Soft Voting: 98.21\n"
          ]
        }
      ]
    },
    {
      "cell_type": "markdown",
      "source": [
        "Com NLP"
      ],
      "metadata": {
        "id": "VJg2SrfYHyMt"
      }
    },
    {
      "cell_type": "code",
      "source": [
        "ensemble_stacking_com_nlp = StackingClassifier(modelos_com_nlp, LogisticRegression(random_state = 50), passthrough = False)\n",
        "ensemble_stacking_pt_com_nlp = StackingClassifier(modelos_com_nlp, LogisticRegression(random_state = 50), passthrough = True)\n",
        "\n",
        "ensemble_stacking_com_nlp.fit(x_train_com_nlp, y_train)\n",
        "ensemble_stacking_pt_com_nlp.fit(x_train_com_nlp, y_train)\n",
        "\n",
        "print(\"Hard Voting: {}\".format(round(accuracy_score(y_test,ensemble_stacking_com_nlp.predict(x_test_com_nlp))*100, 2)))\n",
        "print(\"Soft Voting: {}\".format(round(accuracy_score(y_test,ensemble_stacking_pt_com_nlp.predict(x_test_com_nlp))*100, 2)))"
      ],
      "metadata": {
        "colab": {
          "base_uri": "https://localhost:8080/"
        },
        "id": "jLNSWYkRHy_8",
        "outputId": "fd4a7109-8ddb-4b64-ed68-b7ff70cf281d"
      },
      "execution_count": 86,
      "outputs": [
        {
          "output_type": "stream",
          "name": "stdout",
          "text": [
            "Hard Voting: 98.41\n",
            "Soft Voting: 97.29\n"
          ]
        }
      ]
    },
    {
      "cell_type": "markdown",
      "source": [
        "# 4 - Avaliação e escolha do modelo"
      ],
      "metadata": {
        "id": "ilPrWB36IFqD"
      }
    },
    {
      "cell_type": "markdown",
      "source": [
        "### Modelos"
      ],
      "metadata": {
        "id": "SvBSLjeiY14Y"
      }
    },
    {
      "cell_type": "code",
      "source": [
        "modelos_sem_nlp_final = {'Random Forest':rf_sem_nlp_melhor,\n",
        "                         'MLP':mlp_sem_nlp_melhor,\n",
        "                         'XGBoost':xgb_sem_nlp_melhor,\n",
        "                         'Hard Voting':ensemble_hard_sem_nlp,\n",
        "                         'Soft Voting':ensemble_soft_sem_nlp,\n",
        "                         'Stacking sem PT':ensemble_stacking_sem_nlp,\n",
        "                         'Stacking com PT':ensemble_stacking_pt_sem_nlp\n",
        "                         }\n",
        "\n",
        "modelos_com_nlp_final = {'Random Forest':rf_com_nlp_melhor,\n",
        "                         'MLP':mlp_com_nlp_melhor,\n",
        "                         'XGBoost':xgb_com_nlp_melhor,\n",
        "                         'Hard Voting':ensemble_hard_com_nlp,\n",
        "                         'Soft Voting':ensemble_soft_com_nlp,\n",
        "                         'Stacking sem PT':ensemble_stacking_com_nlp,\n",
        "                         'Stacking com PT':ensemble_stacking_pt_com_nlp\n",
        "                         }"
      ],
      "metadata": {
        "id": "HhRZMOzvR55v"
      },
      "execution_count": 87,
      "outputs": []
    },
    {
      "cell_type": "markdown",
      "source": [
        "## 4.1 - Acurácia"
      ],
      "metadata": {
        "id": "NgsVqau-U1TD"
      }
    },
    {
      "cell_type": "markdown",
      "source": [
        "Sem NLP"
      ],
      "metadata": {
        "id": "C7W2bqOjVTfS"
      }
    },
    {
      "cell_type": "code",
      "source": [
        "for nome in modelos_sem_nlp_final:\n",
        "  print(nome+\" Train: {}\".format(round(accuracy_score(y_train,modelos_sem_nlp_final[nome].predict(x_train_sem_nlp))*100, 2)))\n",
        "  print(nome+\" Test: {}\".format(round(accuracy_score(y_test,modelos_sem_nlp_final[nome].predict(x_test_sem_nlp))*100, 2)))\n",
        "  print(\"Taxa Tr/Te: {}\\n\".format(round((accuracy_score(y_train,modelos_sem_nlp_final[nome].predict(x_train_sem_nlp))/accuracy_score(y_test,modelos_sem_nlp_final[nome].predict(x_test_sem_nlp))-1)*100, 2)))"
      ],
      "metadata": {
        "colab": {
          "base_uri": "https://localhost:8080/"
        },
        "id": "ynZLO6dGU_OI",
        "outputId": "345fb184-417c-4ae9-806d-628885463c3e"
      },
      "execution_count": 99,
      "outputs": [
        {
          "output_type": "stream",
          "name": "stdout",
          "text": [
            "Random Forest Train: 99.43\n",
            "Random Forest Test: 98.15\n",
            "Taxa Tr/Te: 1.3\n",
            "\n",
            "MLP Train: 99.03\n",
            "MLP Test: 98.13\n",
            "Taxa Tr/Te: 0.92\n",
            "\n",
            "XGBoost Train: 99.06\n",
            "XGBoost Test: 98.01\n",
            "Taxa Tr/Te: 1.06\n",
            "\n",
            "Hard Voting Train: 99.15\n",
            "Hard Voting Test: 98.24\n",
            "Taxa Tr/Te: 0.93\n",
            "\n",
            "Soft Voting Train: 99.17\n",
            "Soft Voting Test: 98.18\n",
            "Taxa Tr/Te: 1.0\n",
            "\n",
            "Stacking sem PT Train: 99.31\n",
            "Stacking sem PT Test: 98.29\n",
            "Taxa Tr/Te: 1.04\n",
            "\n",
            "Stacking com PT Train: 99.35\n",
            "Stacking com PT Test: 98.21\n",
            "Taxa Tr/Te: 1.16\n",
            "\n"
          ]
        }
      ]
    },
    {
      "cell_type": "code",
      "source": [
        "for nome in modelos_com_nlp_final:\n",
        "  print(nome+\" Train: {}\".format(round(accuracy_score(y_train,modelos_com_nlp_final[nome].predict(x_train_com_nlp))*100, 2)))\n",
        "  print(nome+\" Test: {}\".format(round(accuracy_score(y_test,modelos_com_nlp_final[nome].predict(x_test_com_nlp))*100, 2)))\n",
        "  print(\"Taxa Tr/Te: {}\\n\".format(round((accuracy_score(y_train,modelos_com_nlp_final[nome].predict(x_train_com_nlp))/accuracy_score(y_test,modelos_com_nlp_final[nome].predict(x_test_com_nlp))-1)*100, 2)))"
      ],
      "metadata": {
        "colab": {
          "base_uri": "https://localhost:8080/"
        },
        "id": "It9x5IiSVUqy",
        "outputId": "c2c2fd6f-bc69-43d4-faf0-48427da4f86b"
      },
      "execution_count": 100,
      "outputs": [
        {
          "output_type": "stream",
          "name": "stdout",
          "text": [
            "Random Forest Train: 100.0\n",
            "Random Forest Test: 96.92\n",
            "Taxa Tr/Te: 3.17\n",
            "\n",
            "MLP Train: 99.99\n",
            "MLP Test: 98.1\n",
            "Taxa Tr/Te: 1.93\n",
            "\n",
            "XGBoost Train: 100.0\n",
            "XGBoost Test: 98.1\n",
            "Taxa Tr/Te: 1.94\n",
            "\n",
            "Hard Voting Train: 100.0\n",
            "Hard Voting Test: 97.85\n",
            "Taxa Tr/Te: 2.2\n",
            "\n",
            "Soft Voting Train: 99.99\n",
            "Soft Voting Test: 98.01\n",
            "Taxa Tr/Te: 2.02\n",
            "\n",
            "Stacking sem PT Train: 100.0\n",
            "Stacking sem PT Test: 98.41\n",
            "Taxa Tr/Te: 1.62\n",
            "\n",
            "Stacking com PT Train: 98.76\n",
            "Stacking com PT Test: 97.29\n",
            "Taxa Tr/Te: 1.51\n",
            "\n"
          ]
        }
      ]
    },
    {
      "cell_type": "markdown",
      "source": [
        "## 4.2 - Matriz de confusão"
      ],
      "metadata": {
        "id": "lSdpcMRJWPm6"
      }
    },
    {
      "cell_type": "markdown",
      "source": [
        "Sem NLP"
      ],
      "metadata": {
        "id": "jWpTWCYUXT-D"
      }
    },
    {
      "cell_type": "code",
      "source": [
        "for nome in modelos_sem_nlp_final:\n",
        "  print(nome)\n",
        "  print(confusion_matrix(y_test,modelos_sem_nlp_final[nome].predict(x_test_sem_nlp)))\n",
        "  print('\\n')"
      ],
      "metadata": {
        "colab": {
          "base_uri": "https://localhost:8080/"
        },
        "id": "1tsgtfSXWWPC",
        "outputId": "72ff0010-fc56-476c-d970-336dcbdf19bc"
      },
      "execution_count": 92,
      "outputs": [
        {
          "output_type": "stream",
          "name": "stdout",
          "text": [
            "Random Forest\n",
            "[[3373   12]\n",
            " [  54  137]]\n",
            "\n",
            "\n",
            "MLP\n",
            "[[3369   16]\n",
            " [  51  140]]\n",
            "\n",
            "\n",
            "XGBoost\n",
            "[[3364   21]\n",
            " [  50  141]]\n",
            "\n",
            "\n",
            "Hard Voting\n",
            "[[3375   10]\n",
            " [  53  138]]\n",
            "\n",
            "\n",
            "Soft Voting\n",
            "[[3372   13]\n",
            " [  52  139]]\n",
            "\n",
            "\n",
            "Stacking sem PT\n",
            "[[3375   10]\n",
            " [  51  140]]\n",
            "\n",
            "\n",
            "Stacking com PT\n",
            "[[3371   14]\n",
            " [  50  141]]\n",
            "\n",
            "\n"
          ]
        }
      ]
    },
    {
      "cell_type": "markdown",
      "source": [
        "Com NLP"
      ],
      "metadata": {
        "id": "anHiJEJeXSyq"
      }
    },
    {
      "cell_type": "code",
      "source": [
        "for nome in modelos_com_nlp_final:\n",
        "  print(nome)\n",
        "  print(confusion_matrix(y_test,modelos_com_nlp_final[nome].predict(x_test_com_nlp)))\n",
        "  print('\\n')"
      ],
      "metadata": {
        "colab": {
          "base_uri": "https://localhost:8080/"
        },
        "id": "cm3K9dtvWwWB",
        "outputId": "7da96143-c70e-4da6-d72f-4d5aa40bd8bb"
      },
      "execution_count": 93,
      "outputs": [
        {
          "output_type": "stream",
          "name": "stdout",
          "text": [
            "Random Forest\n",
            "[[3385    0]\n",
            " [ 110   81]]\n",
            "\n",
            "\n",
            "MLP\n",
            "[[3369   16]\n",
            " [  52  139]]\n",
            "\n",
            "\n",
            "XGBoost\n",
            "[[3383    2]\n",
            " [  66  125]]\n",
            "\n",
            "\n",
            "Hard Voting\n",
            "[[3384    1]\n",
            " [  76  115]]\n",
            "\n",
            "\n",
            "Soft Voting\n",
            "[[3384    1]\n",
            " [  70  121]]\n",
            "\n",
            "\n",
            "Stacking sem PT\n",
            "[[3378    7]\n",
            " [  50  141]]\n",
            "\n",
            "\n",
            "Stacking com PT\n",
            "[[3356   29]\n",
            " [  68  123]]\n",
            "\n",
            "\n"
          ]
        }
      ]
    },
    {
      "cell_type": "markdown",
      "source": [
        "## 4.3 - Curva ROC"
      ],
      "metadata": {
        "id": "uAKzr7Q7ZY4f"
      }
    },
    {
      "cell_type": "code",
      "source": [
        "def plot_roc_curve(fper, tper, roc_score,nome_modelo):\n",
        "    plt.figure(figsize=(10,7))\n",
        "    plt.plot(fper, tper, color='blue', label='ROC')\n",
        "    plt.plot([0, 1], [0, 1], color='red', linestyle='-')\n",
        "    plt.xlabel('Taxa de falsos positivos')\n",
        "    plt.ylabel('Taxa de verdadeiros positivos')\n",
        "    plt.title('Modelo: {} - Área da curva ROC: {:.2f}'.format(nome_modelo,roc_score))\n",
        "    plt.legend()\n",
        "    plt.show()"
      ],
      "metadata": {
        "id": "WNM3iDTdZdyY"
      },
      "execution_count": 94,
      "outputs": []
    },
    {
      "cell_type": "code",
      "source": [
        "for modelo in modelos_sem_nlp_final:\n",
        "  try:\n",
        "    y_pred_proba = modelos_sem_nlp_final[modelo].predict_proba(x_test_sem_nlp)\n",
        "    y_pred = modelos_sem_nlp_final[modelo].predict(x_test_sem_nlp)\n",
        "    fpr,tpr,_ = roc_curve(y_test,y_pred_proba[:,1])\n",
        "    print('\\n')\n",
        "    plot_roc_curve(fpr,tpr,roc_auc_score(y_test,y_pred)*100,modelo)\n",
        "  except:\n",
        "    print(\"\\n{} não retorna probabilidade.\".format(modelo))"
      ],
      "metadata": {
        "colab": {
          "base_uri": "https://localhost:8080/",
          "height": 1000
        },
        "id": "zJEtpAxwZv5l",
        "outputId": "201c6145-7756-4a17-eb00-71a48384df28"
      },
      "execution_count": 95,
      "outputs": [
        {
          "output_type": "stream",
          "name": "stdout",
          "text": [
            "\n",
            "\n"
          ]
        },
        {
          "output_type": "display_data",
          "data": {
            "text/plain": [
              "<Figure size 720x504 with 1 Axes>"
            ],
            "image/png": "[encoded data removed]"
          },
          "metadata": {
            "needs_background": "light"
          }
        },
        {
          "output_type": "stream",
          "name": "stdout",
          "text": [
            "\n",
            "\n"
          ]
        },
        {
          "output_type": "display_data",
          "data": {
            "text/plain": [
              "<Figure size 720x504 with 1 Axes>"
            ],
            "image/png": "[encoded data removed]"
          },
          "metadata": {
            "needs_background": "light"
          }
        },
        {
          "output_type": "stream",
          "name": "stdout",
          "text": [
            "\n",
            "\n"
          ]
        },
        {
          "output_type": "display_data",
          "data": {
            "text/plain": [
              "<Figure size 720x504 with 1 Axes>"
            ],
            "image/png": "[encoded data removed]"
          },
          "metadata": {
            "needs_background": "light"
          }
        },
        {
          "output_type": "stream",
          "name": "stdout",
          "text": [
            "\n",
            "Hard Voting não retorna probabilidade.\n",
            "\n",
            "\n"
          ]
        },
        {
          "output_type": "display_data",
          "data": {
            "text/plain": [
              "<Figure size 720x504 with 1 Axes>"
            ],
            "image/png": "[encoded data removed]"
          },
          "metadata": {
            "needs_background": "light"
          }
        },
        {
          "output_type": "stream",
          "name": "stdout",
          "text": [
            "\n",
            "\n"
          ]
        },
        {
          "output_type": "display_data",
          "data": {
            "text/plain": [
              "<Figure size 720x504 with 1 Axes>"
            ],
            "image/png": "[encoded data removed]"
          },
          "metadata": {
            "needs_background": "light"
          }
        },
        {
          "output_type": "stream",
          "name": "stdout",
          "text": [
            "\n",
            "\n"
          ]
        },
        {
          "output_type": "display_data",
          "data": {
            "text/plain": [
              "<Figure size 720x504 with 1 Axes>"
            ],
            "image/png": "[encoded data removed]"
          },
          "metadata": {
            "needs_background": "light"
          }
        }
      ]
    },
    {
      "cell_type": "code",
      "source": [
        "for modelo in modelos_com_nlp_final:\n",
        "  try:\n",
        "    y_pred_proba = modelos_com_nlp_final[modelo].predict_proba(x_test_com_nlp)\n",
        "    y_pred = modelos_com_nlp_final[modelo].predict(x_test_com_nlp)\n",
        "    fpr,tpr,_ = roc_curve(y_test,y_pred_proba[:,1])\n",
        "    print('\\n')\n",
        "    plot_roc_curve(fpr,tpr,roc_auc_score(y_test,y_pred)*100,modelo)\n",
        "  except:\n",
        "    print(\"\\n{} não retorna probabilidade.\".format(modelo))"
      ],
      "metadata": {
        "colab": {
          "base_uri": "https://localhost:8080/",
          "height": 1000
        },
        "id": "N4Pp9uMfdlLN",
        "outputId": "d0cfd330-b489-45e5-ba00-7e68487db2a4"
      },
      "execution_count": 96,
      "outputs": [
        {
          "output_type": "stream",
          "name": "stdout",
          "text": [
            "\n",
            "\n"
          ]
        },
        {
          "output_type": "display_data",
          "data": {
            "text/plain": [
              "<Figure size 720x504 with 1 Axes>"
            ],
            "image/png": "[encoded data removed]"
          },
          "metadata": {
            "needs_background": "light"
          }
        },
        {
          "output_type": "stream",
          "name": "stdout",
          "text": [
            "\n",
            "\n"
          ]
        },
        {
          "output_type": "display_data",
          "data": {
            "text/plain": [
              "<Figure size 720x504 with 1 Axes>"
            ],
            "image/png": "[encoded data removed]"
          },
          "metadata": {
            "needs_background": "light"
          }
        },
        {
          "output_type": "stream",
          "name": "stdout",
          "text": [
            "\n",
            "\n"
          ]
        },
        {
          "output_type": "display_data",
          "data": {
            "text/plain": [
              "<Figure size 720x504 with 1 Axes>"
            ],
            "image/png": "[encoded data removed]"
          },
          "metadata": {
            "needs_background": "light"
          }
        },
        {
          "output_type": "stream",
          "name": "stdout",
          "text": [
            "\n",
            "Hard Voting não retorna probabilidade.\n",
            "\n",
            "\n"
          ]
        },
        {
          "output_type": "display_data",
          "data": {
            "text/plain": [
              "<Figure size 720x504 with 1 Axes>"
            ],
            "image/png": "[encoded data removed]"
          },
          "metadata": {
            "needs_background": "light"
          }
        },
        {
          "output_type": "stream",
          "name": "stdout",
          "text": [
            "\n",
            "\n"
          ]
        },
        {
          "output_type": "display_data",
          "data": {
            "text/plain": [
              "<Figure size 720x504 with 1 Axes>"
            ],
            "image/png": "[encoded data removed]"
          },
          "metadata": {
            "needs_background": "light"
          }
        },
        {
          "output_type": "stream",
          "name": "stdout",
          "text": [
            "\n",
            "\n"
          ]
        },
        {
          "output_type": "display_data",
          "data": {
            "text/plain": [
              "<Figure size 720x504 with 1 Axes>"
            ],
            "image/png": "[encoded data removed]"
          },
          "metadata": {
            "needs_background": "light"
          }
        }
      ]
    },
    {
      "cell_type": "markdown",
      "source": [
        "## 4.4 - Validação cruzada dos melhores modelos"
      ],
      "metadata": {
        "id": "4WreqcdNcxdE"
      }
    },
    {
      "cell_type": "markdown",
      "source": [
        "Modelos escolhidos:\n",
        "- **Stacking sem PT com NLP:**\n",
        "\n",
        "Melhor acurácia na base de teste porém com overfit na base de treinamento e é um algoritmo de maior complexidade.\n",
        "\n",
        "- **Stacking sem PT sem NLP:**\n",
        "\n",
        "Segunda melhor acurácia na base de testes porém sem o total overfit da base de treinamento e é um algoritmo de menor complexidade por não usar as 300 colunas W2V.\n",
        "\n",
        "- **Random Forest sem NLP:**\n",
        "\n",
        "Acurácia menor que os outros (0.26 menor que o melhor) porém é um algoritmo muito menos complexo que os demais e exige um poder computacional muito menor."
      ],
      "metadata": {
        "id": "WuiO-WM4XcFU"
      }
    },
    {
      "cell_type": "markdown",
      "source": [
        "Função para diminuir a dimensionalidade das variaveis"
      ],
      "metadata": {
        "id": "He1VPySCZrMK"
      }
    },
    {
      "cell_type": "code",
      "source": [
        "def diminui_dim(data,categorias):\n",
        "  col_pronta = []\n",
        "  for linha in data:\n",
        "    if linha in categorias:\n",
        "      col_pronta.append(linha)\n",
        "    else:\n",
        "      col_pronta.append('Outros')\n",
        "  return col_pronta"
      ],
      "metadata": {
        "id": "AxtJo5OGdMCZ"
      },
      "execution_count": null,
      "outputs": []
    },
    {
      "cell_type": "code",
      "source": [
        "x_cv = data.drop('fraudulent',axis=1).copy()\n",
        "y_cv = data.fraudulent.copy()"
      ],
      "metadata": {
        "id": "r0XX38owdF1h"
      },
      "execution_count": null,
      "outputs": []
    },
    {
      "cell_type": "markdown",
      "source": [
        "Pre Processing que é possivel ser feito antes da separação de dados sem possuir data leakage"
      ],
      "metadata": {
        "id": "08ZG-DQZdJzC"
      }
    },
    {
      "cell_type": "code",
      "source": [
        "x_cv = pp_nlp_has(x_cv)\n",
        "x_cv = preencher_nulos(x_cv)\n",
        "x_cv = pp_var_binarias(x_cv)\n",
        "x_cv = junta_colunas_nlp(x_cv)\n",
        "x_cv = criar_colunas_regex(x_cv)\n",
        "x_cv = pp_paises(x_cv)"
      ],
      "metadata": {
        "id": "Kq0iWMzhdHA-"
      },
      "execution_count": null,
      "outputs": []
    },
    {
      "cell_type": "markdown",
      "source": [
        "Modelos sem NLP"
      ],
      "metadata": {
        "id": "phwRu-TK7A6R"
      }
    },
    {
      "cell_type": "code",
      "source": [
        "x_cv_sem_nlp = x_cv.copy()\n",
        "x_cv_sem_nlp.drop('texto',axis=1,inplace=True)\n",
        "\n",
        "k = 10\n",
        "\n",
        "cv = KFold(n_splits = k, shuffle = True)\n",
        "\n",
        "models_cv_sem_nlp = {'Random Forest':rf_sem_nlp_melhor,\n",
        "                     'Stacking sem NLP':ensemble_stacking_sem_nlp}\n",
        "\n",
        "acc_cvs = {}\n",
        "\n",
        "for nome in models_cv_sem_nlp:\n",
        "  acc_cv = []\n",
        "  for train_index, test_index in cv.split(x_cv_sem_nlp):\n",
        "      # Separando train-test\n",
        "      x_train_cv, x_test_cv = x_cv_sem_nlp.iloc[train_index], x_cv_sem_nlp.iloc[test_index]\n",
        "      y_train_cv, y_test_cv = y_cv[train_index], y_cv[test_index]\n",
        "\n",
        "      # PreProcessing\n",
        "      ## Separando o salary_range pela mediana da base de teste\n",
        "      data_salary_cv = x_train_cv[x_train_cv.salary_range!='Indefinido'].reset_index().salary_range\n",
        "      medias_cv = [pega_media_salary(salary) for salary in data_salary_cv]\n",
        "      mediana_salary_cv = statistics.median(medias_cv)\n",
        "      x_train_cv['salary_range'] = x_train_cv.salary_range.apply(pp_salary_range)\n",
        "      x_test_cv['salary_range'] = x_test_cv.salary_range.apply(pp_salary_range)\n",
        "\n",
        "      ## Diminuindo dimensionalidade das variaveis categoricas\n",
        "      min = int(len(x_train_cv)*0.01)\n",
        "      for coluna in colunas_cat2:\n",
        "        categorias_maior = list(x_train_cv[coluna].value_counts()[x_train_cv[coluna].value_counts() >= min].index)\n",
        "        x_train_cv[coluna] = diminui_dim(x_train_cv[coluna],categorias_maior)\n",
        "        x_test_cv[coluna] = diminui_dim(x_test_cv[coluna],categorias_maior)\n",
        "        \n",
        "      # OneHot das colunas categoricas\n",
        "      x_train_cv = onehot_cat(x_train_cv)\n",
        "      x_test_cv = onehot_cat(x_test_cv)\n",
        "      \n",
        "      # Criando coluna caso nao tenha sido criado no onehot de teste\n",
        "      colunas_faltantes = [coluna for coluna in x_train_cv.columns if coluna not in x_test_cv.columns]\n",
        "      for coluna in colunas_faltantes:\n",
        "        x_test_cv[coluna] = 0\n",
        "\n",
        "      # Train the model\n",
        "      model = models_cv_sem_nlp[nome].fit(x_train_cv, y_train_cv)\n",
        "      # Add a acurácia na lista\n",
        "      acc_cv.append(round(accuracy_score(y_test_cv, model.predict(x_test_cv))*100,3))\n",
        "  acc_cvs[nome] = acc_cv"
      ],
      "metadata": {
        "id": "XtOHQcbKdSrH"
      },
      "execution_count": null,
      "outputs": []
    },
    {
      "cell_type": "markdown",
      "source": [
        "Modelo com NLP"
      ],
      "metadata": {
        "id": "uwEFIhI67Cg6"
      }
    },
    {
      "cell_type": "code",
      "source": [
        "x_cv_com_nlp = x_cv.copy()\n",
        "x_cv_com_nlp = limpa_texto(x_cv_com_nlp)\n",
        "docs = nlp.pipe(x_cv_com_nlp.texto, n_process=-1)\n",
        "vetores_resultantes = [processo_completo(doc) for doc in docs]\n",
        "data_vetores = pd.DataFrame(vetores_resultantes)\n",
        "x_cv_com_nlp.drop('texto',axis=1,inplace=True)\n",
        "x_cv_com_nlp = pd.concat([x_cv_com_nlp,data_vetores],axis=1)"
      ],
      "metadata": {
        "id": "UVzDhkm7fA5d"
      },
      "execution_count": null,
      "outputs": []
    },
    {
      "cell_type": "code",
      "source": [
        "k = 10\n",
        "\n",
        "cv = KFold(n_splits = k, shuffle = True)\n",
        "\n",
        "acc_cv = []\n",
        "for train_index, test_index in cv.split(x_cv_com_nlp):\n",
        "  # Separando train-test\n",
        "  x_train_cv, x_test_cv = x_cv_com_nlp.iloc[train_index], x_cv_com_nlp.iloc[test_index]\n",
        "  y_train_cv, y_test_cv = y_cv[train_index], y_cv[test_index]\n",
        "\n",
        "  # PreProcessing\n",
        "  ## Separando o salary_range pela mediana da base de teste\n",
        "  data_salary_cv = x_train_cv[x_train_cv.salary_range!='Indefinido'].reset_index().salary_range\n",
        "  medias_cv = [pega_media_salary(salary) for salary in data_salary_cv]\n",
        "  mediana_salary_cv = statistics.median(medias_cv)\n",
        "  x_train_cv['salary_range'] = x_train_cv.salary_range.apply(pp_salary_range)\n",
        "  x_test_cv['salary_range'] = x_test_cv.salary_range.apply(pp_salary_range)\n",
        "\n",
        "  ## Diminuindo dimensionalidade das variaveis categoricas\n",
        "  min = int(len(x_train_cv)*0.01)\n",
        "  for coluna in colunas_cat2:\n",
        "    categorias_maior = list(x_train_cv[coluna].value_counts()[x_train_cv[coluna].value_counts() >= min].index)\n",
        "    x_train_cv[coluna] = diminui_dim(x_train_cv[coluna],categorias_maior)\n",
        "    x_test_cv[coluna] = diminui_dim(x_test_cv[coluna],categorias_maior)\n",
        "          \n",
        "  # OneHot das colunas categoricas\n",
        "  x_train_cv = onehot_cat(x_train_cv)\n",
        "  x_test_cv = onehot_cat(x_test_cv)\n",
        "        \n",
        "  # Criando coluna caso nao tenha sido criado no onehot de teste\n",
        "  colunas_faltantes = [coluna for coluna in x_train_cv.columns if coluna not in x_test_cv.columns]\n",
        "  for coluna in colunas_faltantes:\n",
        "    x_test_cv[coluna] = 0\n",
        "\n",
        "  # Train the model\n",
        "  model = ensemble_stacking_com_nlp.fit(x_train_cv, y_train_cv)\n",
        "  # Add a acurácia na lista\n",
        "  acc_cv.append(round(accuracy_score(y_test_cv, model.predict(x_test_cv))*100,3))\n",
        "acc_cvs['Stacking com NLP'] = acc_cv"
      ],
      "metadata": {
        "id": "jlsc_Hva6ZWA"
      },
      "execution_count": null,
      "outputs": []
    },
    {
      "cell_type": "markdown",
      "source": [
        "Avaliação"
      ],
      "metadata": {
        "id": "KmOS5k9NbK9J"
      }
    },
    {
      "cell_type": "code",
      "source": [
        "pd.DataFrame(acc_cvs)"
      ],
      "metadata": {
        "colab": {
          "base_uri": "https://localhost:8080/",
          "height": 363
        },
        "id": "KEVkwA1YVMNa",
        "outputId": "616d21dc-1ca2-45d4-cf54-7fbae9aade9a"
      },
      "execution_count": null,
      "outputs": [
        {
          "output_type": "execute_result",
          "data": {
            "text/plain": [
              "   Random Forest  Stacking sem NLP  Stacking com NLP\n",
              "0         98.098            98.378            98.714\n",
              "1         98.546            98.937            98.266\n",
              "2         98.154            97.539            98.154\n",
              "3         98.210            98.210            98.154\n",
              "4         98.266            98.043            98.434\n",
              "5         97.987            97.763            98.602\n",
              "6         97.931            97.987            98.490\n",
              "7         97.763            97.427            98.770\n",
              "8         97.595            97.987            98.490\n",
              "9         97.987            98.490            98.714"
            ],
            "text/html": [
              "\n",
              "  <div id=\"df-9ac9d968-7be1-498e-83e3-a09d8c90b5d7\">\n",
              "    <div class=\"colab-df-container\">\n",
              "      <div>\n",
              "<style scoped>\n",
              "    .dataframe tbody tr th:only-of-type {\n",
              "        vertical-align: middle;\n",
              "    }\n",
              "\n",
              "    .dataframe tbody tr th {\n",
              "        vertical-align: top;\n",
              "    }\n",
              "\n",
              "    .dataframe thead th {\n",
              "        text-align: right;\n",
              "    }\n",
              "</style>\n",
              "<table border=\"1\" class=\"dataframe\">\n",
              "  <thead>\n",
              "    <tr style=\"text-align: right;\">\n",
              "      <th></th>\n",
              "      <th>Random Forest</th>\n",
              "      <th>Stacking sem NLP</th>\n",
              "      <th>Stacking com NLP</th>\n",
              "    </tr>\n",
              "  </thead>\n",
              "  <tbody>\n",
              "    <tr>\n",
              "      <th>0</th>\n",
              "      <td>98.098</td>\n",
              "      <td>98.378</td>\n",
              "      <td>98.714</td>\n",
              "    </tr>\n",
              "    <tr>\n",
              "      <th>1</th>\n",
              "      <td>98.546</td>\n",
              "      <td>98.937</td>\n",
              "      <td>98.266</td>\n",
              "    </tr>\n",
              "    <tr>\n",
              "      <th>2</th>\n",
              "      <td>98.154</td>\n",
              "      <td>97.539</td>\n",
              "      <td>98.154</td>\n",
              "    </tr>\n",
              "    <tr>\n",
              "      <th>3</th>\n",
              "      <td>98.210</td>\n",
              "      <td>98.210</td>\n",
              "      <td>98.154</td>\n",
              "    </tr>\n",
              "    <tr>\n",
              "      <th>4</th>\n",
              "      <td>98.266</td>\n",
              "      <td>98.043</td>\n",
              "      <td>98.434</td>\n",
              "    </tr>\n",
              "    <tr>\n",
              "      <th>5</th>\n",
              "      <td>97.987</td>\n",
              "      <td>97.763</td>\n",
              "      <td>98.602</td>\n",
              "    </tr>\n",
              "    <tr>\n",
              "      <th>6</th>\n",
              "      <td>97.931</td>\n",
              "      <td>97.987</td>\n",
              "      <td>98.490</td>\n",
              "    </tr>\n",
              "    <tr>\n",
              "      <th>7</th>\n",
              "      <td>97.763</td>\n",
              "      <td>97.427</td>\n",
              "      <td>98.770</td>\n",
              "    </tr>\n",
              "    <tr>\n",
              "      <th>8</th>\n",
              "      <td>97.595</td>\n",
              "      <td>97.987</td>\n",
              "      <td>98.490</td>\n",
              "    </tr>\n",
              "    <tr>\n",
              "      <th>9</th>\n",
              "      <td>97.987</td>\n",
              "      <td>98.490</td>\n",
              "      <td>98.714</td>\n",
              "    </tr>\n",
              "  </tbody>\n",
              "</table>\n",
              "</div>\n",
              "      <button class=\"colab-df-convert\" onclick=\"convertToInteractive('df-9ac9d968-7be1-498e-83e3-a09d8c90b5d7')\"\n",
              "              title=\"Convert this dataframe to an interactive table.\"\n",
              "              style=\"display:none;\">\n",
              "        \n",
              "  <svg xmlns=\"http://www.w3.org/2000/svg\" height=\"24px\"viewBox=\"0 0 24 24\"\n",
              "       width=\"24px\">\n",
              "    <path d=\"M0 0h24v24H0V0z\" fill=\"none\"/>\n",
              "    <path d=\"M18.56 5.44l.94 2.06.94-2.06 2.06-.94-2.06-.94-.94-2.06-.94 2.06-2.06.94zm-11 1L8.5 8.5l.94-2.06 2.06-.94-2.06-.94L8.5 2.5l-.94 2.06-2.06.94zm10 10l.94 2.06.94-2.06 2.06-.94-2.06-.94-.94-2.06-.94 2.06-2.06.94z\"/><path d=\"M17.41 7.96l-1.37-1.37c-.4-.4-.92-.59-1.43-.59-.52 0-1.04.2-1.43.59L10.3 9.45l-7.72 7.72c-.78.78-.78 2.05 0 2.83L4 21.41c.39.39.9.59 1.41.59.51 0 1.02-.2 1.41-.59l7.78-7.78 2.81-2.81c.8-.78.8-2.07 0-2.86zM5.41 20L4 18.59l7.72-7.72 1.47 1.35L5.41 20z\"/>\n",
              "  </svg>\n",
              "      </button>\n",
              "      \n",
              "  <style>\n",
              "    .colab-df-container {\n",
              "      display:flex;\n",
              "      flex-wrap:wrap;\n",
              "      gap: 12px;\n",
              "    }\n",
              "\n",
              "    .colab-df-convert {\n",
              "      background-color: #E8F0FE;\n",
              "      border: none;\n",
              "      border-radius: 50%;\n",
              "      cursor: pointer;\n",
              "      display: none;\n",
              "      fill: #1967D2;\n",
              "      height: 32px;\n",
              "      padding: 0 0 0 0;\n",
              "      width: 32px;\n",
              "    }\n",
              "\n",
              "    .colab-df-convert:hover {\n",
              "      background-color: #E2EBFA;\n",
              "      box-shadow: 0px 1px 2px rgba(60, 64, 67, 0.3), 0px 1px 3px 1px rgba(60, 64, 67, 0.15);\n",
              "      fill: #174EA6;\n",
              "    }\n",
              "\n",
              "    [theme=dark] .colab-df-convert {\n",
              "      background-color: #3B4455;\n",
              "      fill: #D2E3FC;\n",
              "    }\n",
              "\n",
              "    [theme=dark] .colab-df-convert:hover {\n",
              "      background-color: #434B5C;\n",
              "      box-shadow: 0px 1px 3px 1px rgba(0, 0, 0, 0.15);\n",
              "      filter: drop-shadow(0px 1px 2px rgba(0, 0, 0, 0.3));\n",
              "      fill: #FFFFFF;\n",
              "    }\n",
              "  </style>\n",
              "\n",
              "      <script>\n",
              "        const buttonEl =\n",
              "          document.querySelector('#df-9ac9d968-7be1-498e-83e3-a09d8c90b5d7 button.colab-df-convert');\n",
              "        buttonEl.style.display =\n",
              "          google.colab.kernel.accessAllowed ? 'block' : 'none';\n",
              "\n",
              "        async function convertToInteractive(key) {\n",
              "          const element = document.querySelector('#df-9ac9d968-7be1-498e-83e3-a09d8c90b5d7');\n",
              "          const dataTable =\n",
              "            await google.colab.kernel.invokeFunction('convertToInteractive',\n",
              "                                                     [key], {});\n",
              "          if (!dataTable) return;\n",
              "\n",
              "          const docLinkHtml = 'Like what you see? Visit the ' +\n",
              "            '<a target=\"_blank\" href=https://colab.research.google.com/notebooks/data_table.ipynb>data table notebook</a>'\n",
              "            + ' to learn more about interactive tables.';\n",
              "          element.innerHTML = '';\n",
              "          dataTable['output_type'] = 'display_data';\n",
              "          await google.colab.output.renderOutput(dataTable, element);\n",
              "          const docLink = document.createElement('div');\n",
              "          docLink.innerHTML = docLinkHtml;\n",
              "          element.appendChild(docLink);\n",
              "        }\n",
              "      </script>\n",
              "    </div>\n",
              "  </div>\n",
              "  "
            ]
          },
          "metadata": {},
          "execution_count": 163
        }
      ]
    },
    {
      "cell_type": "code",
      "source": [
        "pd.DataFrame(acc_cvs).describe()"
      ],
      "metadata": {
        "id": "rLZjCv5sDg0D",
        "colab": {
          "base_uri": "https://localhost:8080/",
          "height": 300
        },
        "outputId": "b06161bc-3600-42cb-8b96-094a1fe4deff"
      },
      "execution_count": null,
      "outputs": [
        {
          "output_type": "execute_result",
          "data": {
            "text/plain": [
              "       Random Forest  Stacking sem NLP  Stacking com NLP\n",
              "count      10.000000         10.000000         10.000000\n",
              "mean       98.053700         98.076100         98.478800\n",
              "std         0.267239          0.452934          0.228314\n",
              "min        97.595000         97.427000         98.154000\n",
              "25%        97.945000         97.819000         98.308000\n",
              "50%        98.042500         98.015000         98.490000\n",
              "75%        98.196000         98.336000         98.686000\n",
              "max        98.546000         98.937000         98.770000"
            ],
            "text/html": [
              "\n",
              "  <div id=\"df-7db14049-a706-485e-9153-84abc4a26a63\">\n",
              "    <div class=\"colab-df-container\">\n",
              "      <div>\n",
              "<style scoped>\n",
              "    .dataframe tbody tr th:only-of-type {\n",
              "        vertical-align: middle;\n",
              "    }\n",
              "\n",
              "    .dataframe tbody tr th {\n",
              "        vertical-align: top;\n",
              "    }\n",
              "\n",
              "    .dataframe thead th {\n",
              "        text-align: right;\n",
              "    }\n",
              "</style>\n",
              "<table border=\"1\" class=\"dataframe\">\n",
              "  <thead>\n",
              "    <tr style=\"text-align: right;\">\n",
              "      <th></th>\n",
              "      <th>Random Forest</th>\n",
              "      <th>Stacking sem NLP</th>\n",
              "      <th>Stacking com NLP</th>\n",
              "    </tr>\n",
              "  </thead>\n",
              "  <tbody>\n",
              "    <tr>\n",
              "      <th>count</th>\n",
              "      <td>10.000000</td>\n",
              "      <td>10.000000</td>\n",
              "      <td>10.000000</td>\n",
              "    </tr>\n",
              "    <tr>\n",
              "      <th>mean</th>\n",
              "      <td>98.053700</td>\n",
              "      <td>98.076100</td>\n",
              "      <td>98.478800</td>\n",
              "    </tr>\n",
              "    <tr>\n",
              "      <th>std</th>\n",
              "      <td>0.267239</td>\n",
              "      <td>0.452934</td>\n",
              "      <td>0.228314</td>\n",
              "    </tr>\n",
              "    <tr>\n",
              "      <th>min</th>\n",
              "      <td>97.595000</td>\n",
              "      <td>97.427000</td>\n",
              "      <td>98.154000</td>\n",
              "    </tr>\n",
              "    <tr>\n",
              "      <th>25%</th>\n",
              "      <td>97.945000</td>\n",
              "      <td>97.819000</td>\n",
              "      <td>98.308000</td>\n",
              "    </tr>\n",
              "    <tr>\n",
              "      <th>50%</th>\n",
              "      <td>98.042500</td>\n",
              "      <td>98.015000</td>\n",
              "      <td>98.490000</td>\n",
              "    </tr>\n",
              "    <tr>\n",
              "      <th>75%</th>\n",
              "      <td>98.196000</td>\n",
              "      <td>98.336000</td>\n",
              "      <td>98.686000</td>\n",
              "    </tr>\n",
              "    <tr>\n",
              "      <th>max</th>\n",
              "      <td>98.546000</td>\n",
              "      <td>98.937000</td>\n",
              "      <td>98.770000</td>\n",
              "    </tr>\n",
              "  </tbody>\n",
              "</table>\n",
              "</div>\n",
              "      <button class=\"colab-df-convert\" onclick=\"convertToInteractive('df-7db14049-a706-485e-9153-84abc4a26a63')\"\n",
              "              title=\"Convert this dataframe to an interactive table.\"\n",
              "              style=\"display:none;\">\n",
              "        \n",
              "  <svg xmlns=\"http://www.w3.org/2000/svg\" height=\"24px\"viewBox=\"0 0 24 24\"\n",
              "       width=\"24px\">\n",
              "    <path d=\"M0 0h24v24H0V0z\" fill=\"none\"/>\n",
              "    <path d=\"M18.56 5.44l.94 2.06.94-2.06 2.06-.94-2.06-.94-.94-2.06-.94 2.06-2.06.94zm-11 1L8.5 8.5l.94-2.06 2.06-.94-2.06-.94L8.5 2.5l-.94 2.06-2.06.94zm10 10l.94 2.06.94-2.06 2.06-.94-2.06-.94-.94-2.06-.94 2.06-2.06.94z\"/><path d=\"M17.41 7.96l-1.37-1.37c-.4-.4-.92-.59-1.43-.59-.52 0-1.04.2-1.43.59L10.3 9.45l-7.72 7.72c-.78.78-.78 2.05 0 2.83L4 21.41c.39.39.9.59 1.41.59.51 0 1.02-.2 1.41-.59l7.78-7.78 2.81-2.81c.8-.78.8-2.07 0-2.86zM5.41 20L4 18.59l7.72-7.72 1.47 1.35L5.41 20z\"/>\n",
              "  </svg>\n",
              "      </button>\n",
              "      \n",
              "  <style>\n",
              "    .colab-df-container {\n",
              "      display:flex;\n",
              "      flex-wrap:wrap;\n",
              "      gap: 12px;\n",
              "    }\n",
              "\n",
              "    .colab-df-convert {\n",
              "      background-color: #E8F0FE;\n",
              "      border: none;\n",
              "      border-radius: 50%;\n",
              "      cursor: pointer;\n",
              "      display: none;\n",
              "      fill: #1967D2;\n",
              "      height: 32px;\n",
              "      padding: 0 0 0 0;\n",
              "      width: 32px;\n",
              "    }\n",
              "\n",
              "    .colab-df-convert:hover {\n",
              "      background-color: #E2EBFA;\n",
              "      box-shadow: 0px 1px 2px rgba(60, 64, 67, 0.3), 0px 1px 3px 1px rgba(60, 64, 67, 0.15);\n",
              "      fill: #174EA6;\n",
              "    }\n",
              "\n",
              "    [theme=dark] .colab-df-convert {\n",
              "      background-color: #3B4455;\n",
              "      fill: #D2E3FC;\n",
              "    }\n",
              "\n",
              "    [theme=dark] .colab-df-convert:hover {\n",
              "      background-color: #434B5C;\n",
              "      box-shadow: 0px 1px 3px 1px rgba(0, 0, 0, 0.15);\n",
              "      filter: drop-shadow(0px 1px 2px rgba(0, 0, 0, 0.3));\n",
              "      fill: #FFFFFF;\n",
              "    }\n",
              "  </style>\n",
              "\n",
              "      <script>\n",
              "        const buttonEl =\n",
              "          document.querySelector('#df-7db14049-a706-485e-9153-84abc4a26a63 button.colab-df-convert');\n",
              "        buttonEl.style.display =\n",
              "          google.colab.kernel.accessAllowed ? 'block' : 'none';\n",
              "\n",
              "        async function convertToInteractive(key) {\n",
              "          const element = document.querySelector('#df-7db14049-a706-485e-9153-84abc4a26a63');\n",
              "          const dataTable =\n",
              "            await google.colab.kernel.invokeFunction('convertToInteractive',\n",
              "                                                     [key], {});\n",
              "          if (!dataTable) return;\n",
              "\n",
              "          const docLinkHtml = 'Like what you see? Visit the ' +\n",
              "            '<a target=\"_blank\" href=https://colab.research.google.com/notebooks/data_table.ipynb>data table notebook</a>'\n",
              "            + ' to learn more about interactive tables.';\n",
              "          element.innerHTML = '';\n",
              "          dataTable['output_type'] = 'display_data';\n",
              "          await google.colab.output.renderOutput(dataTable, element);\n",
              "          const docLink = document.createElement('div');\n",
              "          docLink.innerHTML = docLinkHtml;\n",
              "          element.appendChild(docLink);\n",
              "        }\n",
              "      </script>\n",
              "    </div>\n",
              "  </div>\n",
              "  "
            ]
          },
          "metadata": {},
          "execution_count": 164
        }
      ]
    },
    {
      "cell_type": "markdown",
      "source": [
        "## 4.5 - Escolha e salvamento do modelo"
      ],
      "metadata": {
        "id": "l9Y1BYfvVhGK"
      }
    },
    {
      "cell_type": "markdown",
      "source": [
        "Apesar do Stacking com NLP ter resultados melhores, a diferença para este caso não é grande o bastante que compense a demanda computacional tão maior que os outros. Entre o random forest sem nlp e o stacking sem nlp, o random forest teve resultado melhor na validação cruzada e é menos complexo, portanto é o melhor modelo para este caso."
      ],
      "metadata": {
        "id": "8GgObjXmV1c_"
      }
    },
    {
      "cell_type": "code",
      "source": [
        "rf_sem_nlp_melhor"
      ],
      "metadata": {
        "colab": {
          "base_uri": "https://localhost:8080/"
        },
        "id": "GB8UVjr-VlRY",
        "outputId": "8e1e3b4e-3e0e-438d-c837-b92627f95b7c"
      },
      "execution_count": 103,
      "outputs": [
        {
          "output_type": "execute_result",
          "data": {
            "text/plain": [
              "RandomForestClassifier(random_state=50)"
            ]
          },
          "metadata": {},
          "execution_count": 103
        }
      ]
    },
    {
      "cell_type": "code",
      "source": [
        "filename = \"models/random_forest.sav\"\n",
        "pickle.dump(rf_sem_nlp_melhor, open(filename, \"wb\"))"
      ],
      "metadata": {
        "id": "NsjPVOCqWDIt"
      },
      "execution_count": 104,
      "outputs": []
    },
    {
      "cell_type": "code",
      "source": [],
      "metadata": {
        "id": "2cAcnOxSXcny"
      },
      "execution_count": 104,
      "outputs": []
    }
  ],
  "metadata": {
    "colab": {
      "collapsed_sections": [
        "KchHK2JsZRWU",
        "R-S1DoLP-jJf",
        "NgpQC0IpDhNL",
        "U6E65s5zXvnr",
        "tg2pg-d5E4qL",
        "PeG1uzCNoBq3",
        "w90v4kPBKHHW",
        "Gizrpc1h7UVG",
        "-xRRBOonKlqi",
        "E2d1TlZR1ijO",
        "Zl13bd5NMfmI",
        "XejBoJr7ozVr",
        "w9TaN2yEs4J0",
        "oIqiFxcQw4wg",
        "hCgbVIDb-D2M",
        "Gaeoe_Lw_sg6",
        "1F27prrogS1l",
        "5Nb8WayfnOkP",
        "IjDX5UN7zPya",
        "SWxUBIMd2iWR",
        "q1BS4FqY0sqC",
        "RRoYY5NlTjdr",
        "15m8UxOUMp92",
        "toh64M_lxgnh",
        "talgy4VIxdbM",
        "sgZzLROpTGnR",
        "o8eTnV45P-xY",
        "5nsQH8awRdDW",
        "yL_liAmVRiDr",
        "GuLw5udpcyjz",
        "TTU7C73HQBo3",
        "INt5afKtjTJZ",
        "oTGqIy5Vnw05",
        "PrvPeWKI8A5v",
        "6nxStvoMErD4",
        "5_aFW1HGEtb1",
        "rudUBqJNHFPF",
        "SvBSLjeiY14Y",
        "NgsVqau-U1TD"
      ],
      "provenance": []
    },
    "kernelspec": {
      "display_name": "Python 3",
      "name": "python3"
    },
    "language_info": {
      "name": "python"
    }
  },
  "nbformat": 4,
  "nbformat_minor": 0
}